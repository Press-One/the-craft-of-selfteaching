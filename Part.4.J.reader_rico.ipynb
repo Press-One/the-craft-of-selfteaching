{
 "cells": [
  {
   "cell_type": "markdown",
   "metadata": {},
   "source": [
    "# 我自学 Python 的故事：画出一条自己的复利曲线"
   ]
  },
  {
   "cell_type": "markdown",
   "metadata": {},
   "source": [
    "- [选择题 ★ 关于复利，以下哪个说法你最有感触？](https://xue.cn/hub/app/exercise/1962)"
   ]
  },
  {
   "cell_type": "markdown",
   "metadata": {},
   "source": [
    "<center><a href=\"https://weibo.com/u/5871877638\" >From rico</a></center>"
   ]
  },
  {
   "cell_type": "markdown",
   "metadata": {},
   "source": [
    "向大家分享一下我自学 Python 的时间线，以及取得的进展和成果。"
   ]
  },
  {
   "cell_type": "markdown",
   "metadata": {},
   "source": [
    "## 先囫囵吞枣（2019.03-2019.07）"
   ]
  },
  {
   "cell_type": "markdown",
   "metadata": {},
   "source": [
    "2019.03.15，笑来老师的 [《自学是门手艺》](https://xue.cn/hub/app/books/1) 在 `github` 上面一开源，我就吭哧吭哧跑过去围观了。"
   ]
  },
  {
   "cell_type": "markdown",
   "metadata": {},
   "source": [
    "这期间除了看书，还顺手学了 `github` 的相关操作，比如 PR."
   ]
  },
  {
   "cell_type": "markdown",
   "metadata": {},
   "source": [
    "提了俩 PR，其中一个让我觉得很骄傲！因为纠正了老师的一个 `python` 语法错误！老师 [忘记给列表生成式加上方括号了](https://github.com/selfteaching/the-craft-of-selfteaching/pull/468/commits),哈哈！"
   ]
  },
  {
   "cell_type": "markdown",
   "metadata": {},
   "source": [
    "这个期间我的状态更像是在漫游，这里摸摸，那里看看，满眼都是新奇。关于囫囵吞枣的策略，老师也有专门的章节介绍，这里就不赘述了。"
   ]
  },
  {
   "cell_type": "markdown",
   "metadata": {
    "tags": [
     "只字不差"
    ],
    "questions": [
     "1430"
    ]
   },
   "source": [
    "**对于初学者来说，我觉得囫囵吞枣不可或缺。**在这个过程中，对待编程知识不必要求准确深刻的理解，而是定位在博个眼熟即可；但是对老师的心理建设部分的内容（鸡汤），我认为必须只字不差的阅读，尽可能的吸收。充足的心理建设 + 眼熟的编程概念，是接下来能学习下去的基础。"
   ]
  },
  {
   "cell_type": "markdown",
   "metadata": {},
   "source": [
    "## 只字不差的阅读，练习，写评论（2019.07-2019.08）"
   ]
  },
  {
   "cell_type": "markdown",
   "metadata": {},
   "source": [
    "在 2019.7.15 的时候我发现自己已经囫囵吞枣，漫游几个月了。于是给自己下了一个任务，结束漫游，重点跟进编程部分知识，进入全方位扫荡模式。"
   ]
  },
  {
   "cell_type": "markdown",
   "metadata": {},
   "source": [
    "也许是前期的漫游无意间收集了许多宝石，当我开始集中注意力只字不差的阅读，练习每一个格子里面的例子的时候，散落的知识点非常迅速的穿在了一起。（其实这段时间只有不到一个月。每天花的时间不固定，不过基本上是两个小时以上。我是今天写总结的时候，去翻看以前的记录，才得知这个数字。还是有点意外的。）那些宝石非常迅速且自然的被我串起来了。而且这个过程发生的悄无声息，没有刻意。外在表现就是，每天都好开心。"
   ]
  },
  {
   "cell_type": "markdown",
   "metadata": {},
   "source": [
    "<img src=\"https://s1.ax1x.com/2020/04/07/GgItUS.md.jpg\" alt=\"20190731\" style=\"zoom:50%;\" />"
   ]
  },
  {
   "cell_type": "markdown",
   "metadata": {},
   "source": [
    "<center>2019.07.31 我发的微博 </center>"
   ]
  },
  {
   "cell_type": "markdown",
   "metadata": {},
   "source": [
    "除了只字不差的阅读和不放过一个示范代码以外，这段时间的飞速进步也有赖于我也给自己下达的一个硬指标，就是每章看完必须留言。基本上做到了。刚开始留言根本不知道写什么，写的时候总觉得辞不达意。但是重要的是开始！要求低一点，比如写什么都行，字数少也行。反正就是**必须留言**！ —— 不管写什么。因为留言是公开的行为，我在发表前就会不自觉的不断打磨，打磨的过程往往会伴随概念之间新关联的产生等等。这也是之前没想到的。当然我自认为留言质量还是很 OK 的，涉及的话题也是很广泛。如果感兴趣，可以去 xue.cn 上面看用户名为 lilasxie 的留言。"
   ]
  },
  {
   "cell_type": "markdown",
   "metadata": {},
   "source": [
    "<img src=\"https://s1.ax1x.com/2020/04/07/Ggo9Vf.png\" alt=\"xuecn 留言\" style=\"zoom:100%;\" />"
   ]
  },
  {
   "cell_type": "markdown",
   "metadata": {},
   "source": [
    "<center> 图为摘选的留言 </center>"
   ]
  },
  {
   "cell_type": "markdown",
   "metadata": {},
   "source": [
    "## 第一个完整的作品----自动挂单脚本（2019.08）"
   ]
  },
  {
   "cell_type": "markdown",
   "metadata": {},
   "source": [
    "笑来老师说，一定要给自己找活干！我估摸着学的有点模样了，就开始给自己找活了。"
   ]
  },
  {
   "cell_type": "markdown",
   "metadata": {},
   "source": [
    "功能很简单----调用交易所 API，以预定的规则进行挂单撤单操作。"
   ]
  },
  {
   "cell_type": "markdown",
   "metadata": {},
   "source": [
    "这一个 [脚本代码](https://github.com/lilasxie/BigOne) 在 `github` 上有开源，现在看来粗糙无比，简直没眼看。但在那个时候，真的是我的极限了。"
   ]
  },
  {
   "cell_type": "markdown",
   "metadata": {},
   "source": [
    "即便是这样一个简单的脚本，也包含了很多的工作。以下列举部分。"
   ]
  },
  {
   "cell_type": "markdown",
   "metadata": {},
   "source": [
    "### 第一，阅读交易所 API 文档，学会正确调用之。"
   ]
  },
  {
   "cell_type": "markdown",
   "metadata": {},
   "source": [
    "再拆解下去就是，根据 API 要求构造请求体--发出请求--得到响应--处理响应。"
   ]
  },
  {
   "cell_type": "markdown",
   "metadata": {},
   "source": [
    "每一步，都走的异常艰难。"
   ]
  },
  {
   "cell_type": "markdown",
   "metadata": {},
   "source": [
    "比如发出请求这一步，首先碰到的问题是，怎么发？平时跟着书本学，所有的操作都是在自己的电脑上的编辑器里发生的，每次只要 print，就能得到结果。这一次，要去另外一台电脑上取数据，怎么到那里去？所幸的是需求很明确，于是翻开官方文档，找库呗。找到之后，又是一通练习，终于把这个 `urllib.request` 跑通了。"
   ]
  },
  {
   "cell_type": "markdown",
   "metadata": {},
   "source": [
    "再比如处理响应这一步，API 返回的数据是什么格式的，要怎么处理才能得到我想要的数据？"
   ]
  },
  {
   "cell_type": "markdown",
   "metadata": {},
   "source": [
    "### 第二，将挂单策略用代码表示出来。"
   ]
  },
  {
   "cell_type": "markdown",
   "metadata": {},
   "source": [
    "这一步更难了。如果说写出一个这样可用的脚本是在建房子的话，之前的工作只是在制造各种各样的砖头，这些砖头就堆在那里，不会自动变为一套房子。你需要水泥、钢筋等等，去把这些散落的砖头连接起来。这就是策略部分的代码了。"
   ]
  },
  {
   "cell_type": "markdown",
   "metadata": {},
   "source": [
    "那时候，很难很难，要请求数据，要处理订单数据，要判断订单是不是符合要求，要每 3 秒查一次等等 ...... 总之，一团浆糊。"
   ]
  },
  {
   "cell_type": "markdown",
   "metadata": {},
   "source": [
    "现在想来，不过是用 `if``else``for``while` 等把这些砖头连接起来而已。"
   ]
  },
  {
   "cell_type": "markdown",
   "metadata": {},
   "source": [
    "### 第三，运行"
   ]
  },
  {
   "cell_type": "markdown",
   "metadata": {},
   "source": [
    "当我绞尽脑汁终于把” 房子 “建好之后，非常开心的要让它 show time 的时候，结果呢--"
   ]
  },
  {
   "cell_type": "markdown",
   "metadata": {},
   "source": [
    "啊，怎么运行到一半就自己停了呢？"
   ]
  },
  {
   "cell_type": "markdown",
   "metadata": {},
   "source": [
    "啊，怎么返回说我没有权限呢？"
   ]
  },
  {
   "cell_type": "markdown",
   "metadata": {},
   "source": [
    "啊，怎么一直挂不上单子呢？"
   ]
  },
  {
   "cell_type": "markdown",
   "metadata": {},
   "source": [
    "......"
   ]
  },
  {
   "cell_type": "markdown",
   "metadata": {},
   "source": [
    "一个又一个的错误提示，好像从屏幕里面跳出来了一样，砸向了本来就已经混乱不堪的头脑。"
   ]
  },
  {
   "cell_type": "markdown",
   "metadata": {},
   "source": [
    "**噢，我写 BUG 了**。"
   ]
  },
  {
   "cell_type": "markdown",
   "metadata": {},
   "source": [
    "此前一直没有一个清晰的感知，出 BUG 了，究竟是什么东西。突然间就亲手制造了这么多个。"
   ]
  },
  {
   "cell_type": "markdown",
   "metadata": {},
   "source": [
    "### 小结："
   ]
  },
  {
   "cell_type": "markdown",
   "metadata": {},
   "source": [
    "那时我对完整的判定标准是可用。显然这个脚本做到了。这个脚本给了我很强的信心继续写下去。"
   ]
  },
  {
   "cell_type": "markdown",
   "metadata": {},
   "source": [
    "可是这样一个脚本需要使用者有一定的编程基础。"
   ]
  },
  {
   "cell_type": "markdown",
   "metadata": {},
   "source": [
    "于是我开始锁定第二个作品的目标：要那种有操作界面的人人可用的程序。真是无知者无畏啊，现在回想起来。"
   ]
  },
  {
   "cell_type": "markdown",
   "metadata": {},
   "source": [
    "## 第二个作品----基于 Mixin Messenger 的一个机器人（2019.11-2019.12）"
   ]
  },
  {
   "cell_type": "markdown",
   "metadata": {},
   "source": [
    "在我寻思着第二个作品做什么的时候，Mixin 签到活动开启并且异常火爆。根据它的规则，如果有新人抢了你的红包，你可以得到奖励。我看到不少人说有的人假装新人，专门骗取红包。"
   ]
  },
  {
   "cell_type": "markdown",
   "metadata": {},
   "source": [
    "当时脑子灵光一闪，要不做个功能鉴定一下是不是新人呗。一拍脑袋，就着手开始了。"
   ]
  },
  {
   "cell_type": "markdown",
   "metadata": {},
   "source": [
    "特别要说明一点的是，在制作第二个作品的时候，我突然发现写代码流畅了许多，能够驾驭更复杂的逻辑了。此前我没有刻意去训练算法，所以猜测最可能的原因只能是第一个作品带来的大量的练习造就的。"
   ]
  },
  {
   "cell_type": "markdown",
   "metadata": {
    "tags": [
     "自学能力"
    ],
    "questions": [
     "1427"
    ]
   },
   "source": [
    "**这个作品，让我完成了从写脚本到写应用的跨越，更重要的是自学能力自动迁移。**"
   ]
  },
  {
   "cell_type": "markdown",
   "metadata": {},
   "source": [
    "因为要给用户一个操作界面，那就得写一个页面，由此学习 `html`；想要页面好看美观，由此学习 `css`；想要让用户点击之后呈现一些信息，那就必须去后台拿数据，实现前后端交互，我又去学了 `js`。就这样，在不知不觉中，我自然而然地开始学习其它编程语言，在清晰的需求的强烈驱动下，挑需要的学，边学边用，模仿他人的思路，一路上跌跌撞撞，最终写出了页面，做出了渲染效果，拿到了后台的数据等等。等反应过来的时候，自己都被吓一跳，啊，我也会写页面了？竟然还写的还蛮好看的呢？这种感觉第一次体验到，真的真的很奇妙。"
   ]
  },
  {
   "cell_type": "markdown",
   "metadata": {},
   "source": [
    "<img src=\"https://s1.ax1x.com/2020/04/07/Ggo7yn.jpg\" alt=\"新人鉴定\" style=\"zoom:50%;\" />"
   ]
  },
  {
   "cell_type": "markdown",
   "metadata": {},
   "source": [
    "<center> 机器人的首页 </center>"
   ]
  },
  {
   "cell_type": "markdown",
   "metadata": {},
   "source": [
    "当然上面只是完成第二个作品过程中的一小部分，还有框架的选择和使用，数据库的操作，第三方接口（mixin) 的使用，上线云服务器等等。"
   ]
  },
  {
   "cell_type": "markdown",
   "metadata": {},
   "source": [
    "这当中的每一步，也许展开来说都是一篇文章，对那时的我来说都是从 0 到 1 巨大的跨越，而对现在的我来说，已然成了迈向下一步的坚实的垫脚石。"
   ]
  },
  {
   "cell_type": "markdown",
   "metadata": {},
   "source": [
    "最后想简单提一下，第二个作品的寿命很短。我也收获了一个很深刻的教训。那就是千万不要拍拍脑门就决定去做一件事情，尤其是当你准备花大量的时间在它上面的时候。这也是一个收获吧。"
   ]
  },
  {
   "cell_type": "markdown",
   "metadata": {},
   "source": [
    "## 写在最后"
   ]
  },
  {
   "cell_type": "markdown",
   "metadata": {},
   "source": [
    "今天梳理自学经历，突然发现自己走出了一条小小的复利曲线。临界点是第一个完整作品诞生的那一刻。走过那个临界点，即完成第一个作品之后，我老有一种海阔天空的感觉。想怎么飞就怎么飞，想怎么蹦跶就怎么蹦跶。不会飞就去学，蹦跶摔倒了就爬起来，继续蹦跶。总之，没在怕的。"
   ]
  },
  {
   "cell_type": "markdown",
   "metadata": {},
   "source": [
    "但在这之前，是长久的看起来毫无变化的日积月累。一定要走过去！"
   ]
  },
  {
   "cell_type": "markdown",
   "metadata": {},
   "source": [
    "![复利曲线](https://s1.ax1x.com/2020/04/07/Gg4mqK.jpg)"
   ]
  },
  {
   "cell_type": "markdown",
   "metadata": {},
   "source": [
    "<center> 复利曲线 </center>"
   ]
  },
  {
   "cell_type": "markdown",
   "metadata": {},
   "source": [
    "2020 年 4 月 8 日"
   ]
  }
 ],
 "metadata": {
  "kernelspec": {
   "display_name": "Python 3",
   "language": "python",
   "name": "python3"
  },
  "language_info": {
   "codemirror_mode": {
    "name": "ipython",
    "version": 3
   },
   "file_extension": ".py",
   "mimetype": "text/x-python",
   "name": "python",
   "nbconvert_exporter": "python",
   "pygments_lexer": "ipython3",
   "version": "3.7.3"
  }
 },
 "nbformat": 4,
 "nbformat_minor": 2
}