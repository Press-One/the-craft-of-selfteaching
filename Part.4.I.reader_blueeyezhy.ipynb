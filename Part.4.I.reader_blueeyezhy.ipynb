{
 "cells": [
  {
   "cell_type": "markdown",
   "metadata": {},
   "source": [
    "# 张野关于自学的两篇分享"
   ]
  },
  {
   "cell_type": "markdown",
   "metadata": {},
   "source": [
    "## 与你分享 40 岁的我如何自学编程"
   ]
  },
  {
   "cell_type": "markdown",
   "metadata": {},
   "source": [
    "### 我是谁"
   ]
  },
  {
   "cell_type": "markdown",
   "metadata": {},
   "source": [
    "> - **张野** (1980 年生)\n",
    "> - **Github**: [@blueeyezhy](https://github.com/blueeyezhy)\n",
    "> - **web**: blueeyezhy.github.io\n",
    "> - **PRESSone**: [张野](https://press.one/main/p/7c08521960497a61baf3f1c9760ff2a4cc66be1c)\n",
    "> - [**Mixin**](https://mixin.one/) ID: 21120\n",
    "> - **PMP**，**CFA**在读"
   ]
  },
  {
   "cell_type": "markdown",
   "metadata": {},
   "source": [
    "### 为什么学习编程"
   ]
  },
  {
   "cell_type": "markdown",
   "metadata": {},
   "source": [
    "大学里学的是电气工程，做毕业设计的时候看了几眼 VC++，觉得太难，脑袋里虽然想着，学好编程我就能如何如何；可是要面对工作和生活，也就没有花精力去学了。"
   ]
  },
  {
   "cell_type": "markdown",
   "metadata": {},
   "source": [
    "早年在日本工作期间，实在是不愿意做那些繁琐，重复的事情。于是就学习 VBA 编写了一个工具，使得部门工作效率提高了 40%，受到当众嘉奖特有成就感。那个时候，我的心里就埋下了学习编程的种子。"
   ]
  },
  {
   "cell_type": "markdown",
   "metadata": {},
   "source": [
    "17 年开始学习 CFA，课间老师说 Python 是学习金融学的有效工具，在金融实务中应用也很广泛。如理论模型的搭建，运行，验证；金融实务分析历史数据，研究并确定执行策略等等。对于职业转型的我来说，学习使用 Pyhton 成为我成长的一个抓手。伴随着 xue.cn 交互式学习环境的上线，我开启了我的编程学习之旅。马上 40 岁了，开始学习编程，有了自己编写的网站是不是很 Cool？"
   ]
  },
  {
   "cell_type": "markdown",
   "metadata": {},
   "source": [
    "还有一点，就是我要给我两个女儿做一个榜样，一个不断学习成长的榜样。"
   ]
  },
  {
   "cell_type": "markdown",
   "metadata": {},
   "source": [
    "### 策略与行动"
   ]
  },
  {
   "cell_type": "markdown",
   "metadata": {},
   "source": [
    "多年的工作，学习经验使得我在学习一个东西上有了自己的套路。"
   ]
  },
  {
   "cell_type": "markdown",
   "metadata": {},
   "source": [
    "首先，需要有个全局的认识，需要知道相关的世界大体是什么样的，就像需要一张地图一样，不关注细节，只注意框架；"
   ]
  },
  {
   "cell_type": "markdown",
   "metadata": {},
   "source": [
    "其次，知道自己在哪里，什么水平，也就是起点。很明显在编程这个世界里，我的起点几乎等于零；"
   ]
  },
  {
   "cell_type": "markdown",
   "metadata": {},
   "source": [
    "再次，自己的阶段目标，我当前的阶段目标是把 CFA 里面的一些经济模型和理论用 Python 来实现。就像导航一样，要有地图，知道起点，知道目标，才会规划出一条路径来。而阶段目标之所以放在最后，实际上是因为：往往刚开始学的时候根本没有明确目标的，学着学着目标就出来了。"
   ]
  },
  {
   "cell_type": "markdown",
   "metadata": {},
   "source": [
    "1. **地图**"
   ]
  },
  {
   "cell_type": "markdown",
   "metadata": {},
   "source": [
    "我是通过一个视频教程建立起我对代码世界的认知地图的，因为我觉得这样更直观更快。爱奇艺里面的 [千峰 Python 经典课程](http://zhishi.m.iqiyi.com/column?columnId=225209601&channel=plugin_column&p1=2_22_222&social_platform=link)1.5~2 倍速观看加跳过，快速看完全部内容，这使我有了一个对编程，甚至软件有了一个全方位的认识。"
   ]
  },
  {
   "cell_type": "markdown",
   "metadata": {},
   "source": [
    "视频内容包括基本逻辑，数据结构，运算与算法，函数，类与对象，模块与包，IO 操作，正则，爬虫，wab 程序，进程与线程，app 程序，前台 (HTML，css，js)，后台 (数据库，站点)，信息交互，同步与异步，请求与响应，Github，安全等。我都列出来不是为了凑字数，也不是显摆我知道的专业名词多，而是也让你有一个简单的框架型的认知，知道这个世界里面大致有什么，不用两眼一麻黑。同时我自己也温习了一遍。"
   ]
  },
  {
   "cell_type": "markdown",
   "metadata": {},
   "source": [
    "2. **路径**"
   ]
  },
  {
   "cell_type": "markdown",
   "metadata": {},
   "source": [
    "学习，重复学习，练习，重复练习这就是学习掌握一项技能的捷径。"
   ]
  },
  {
   "cell_type": "markdown",
   "metadata": {},
   "source": [
    "第一遍刷完 xue.cn 的 [《自学是门手艺》](https://xue.cn/hub/app/books/1)，里面 90% 的练习代码我都敲过，运行过；习题也全部做完了。二刷 xue.cn 上的《了解计算-Python 零基础》，需要动脑的练习全部做完。三刷 pythonbasics.org 里的 exercises，现在练习到 Virtualenv 虚拟环境搭建了。同时，学习李俊老师的音频支线课程：[JupyterLab](https://b23.tv/av74039311/p1) ；[Github](https://b23.tv/av73411755/p1)；[Markdown](https://b23.tv/av75225128/p1) 等。"
   ]
  },
  {
   "cell_type": "markdown",
   "metadata": {},
   "source": [
    "熟悉并掌握 [Github](https://git-scm.com/book/en/v2) 语法及操作，在 Github 上 fork 感兴趣的项目，创建自己的主页 blueeyezhy.github.io；PowerShell 语法，操作，环境变量的设定；使用 VS Code 书写 md 文件和代码；Sublime 的使用和特点。也简单了解了 MySQL 的结构和语法。"
   ]
  },
  {
   "cell_type": "markdown",
   "metadata": {},
   "source": [
    "3. **强化学习**"
   ]
  },
  {
   "cell_type": "markdown",
   "metadata": {},
   "source": [
    "强化学习最好的办法就是解决实际问题，写代码做项目。"
   ]
  },
  {
   "cell_type": "markdown",
   "metadata": {},
   "source": [
    "在我学习期间，幸运的一个在读金融学的表弟问我 Python 的问题，他导师给留了一个用程序实现 **Markowitz** 的组合有效前沿理论的作业，参考资料是 A 股 5 家公司的股票的组合。我意识到这是我的学习机会，集中精力重点学习数据源的接口调用，数据清洗和绘图输出。"
   ]
  },
  {
   "cell_type": "markdown",
   "metadata": {},
   "source": [
    "了解了 [Wind](https://www.wind.com.cn/NewSite/data.html)，[quandl](https://www.quandl.com/)，[Tushare](http://tushare.org/) 各数据结构的特点和覆盖范围，也注册了 quandl 有了自己的 API 接口。基本掌握了 [Pandas](https://pandas.pydata.org/)，[NumPy](https://numpy.org/)，[SciPy](https://www.scipy.org/)，[Matpoltlib](https://matplotlib.org/) 这几数据分析时，经常使用的库的结构，用法，特点及应用领域。"
   ]
  },
  {
   "cell_type": "markdown",
   "metadata": {},
   "source": [
    "有了这些学习成果回头再看表弟的作业，发现很多算法，结构上需要优化的地方。比如说数据类型的转化上，优化代码减少 8 行；再比如循环结构和退化算法 (这名词是不是很酷，刚刚学到的类积分一样的逼近算法，求解区间极值用的) 两个代码块都很耗时，而求解有效前沿过程中完全可以在循环结构中完成，于是修改提升求解的速度；再再比如蒙特卡罗模拟算法，以后肯定用的到，封装成一个函数放到自己的私有库里。输出结果的那一刻，说实话心理很爽。"
   ]
  },
  {
   "cell_type": "markdown",
   "metadata": {},
   "source": [
    "![efficiencyfrontier_python](https://static.press.one/91/60/9160e3da2c2b1eaf6d70c3a151a8efcd32d2e81e64e6c13d6dfe8b935421238e.jpg)"
   ]
  },
  {
   "cell_type": "markdown",
   "metadata": {},
   "source": [
    "**所有的门槛和障碍，都是你成长的垫脚石**"
   ]
  },
  {
   "cell_type": "markdown",
   "metadata": {},
   "source": [
    "### 遇到过的障碍 -> 掌握的技能 (也许你也会遇到，也必将掌握)"
   ]
  },
  {
   "cell_type": "markdown",
   "metadata": {},
   "source": [
    "1. 如何在 `JupyterLab` 里生成 `.py` 文件？"
   ]
  },
  {
   "cell_type": "markdown",
   "metadata": {},
   "source": [
    "遇到这个问题是在练习引入自定义模块的时候，`import` 函数必须接 `.py` 作为参数；但是在 `JupyterLab` 里面，自己写的模块都是 `.ipynb` 文件，引入后显示无法找到模块。经过一番百度和实践，最终得到一段代码并将其放入自己的私有库中。(利用魔法函数在 `JupyterLab` 里面执行，将 `.ipynb` 文件转成同名 `.py` 文件)"
   ]
  },
  {
   "cell_type": "markdown",
   "metadata": {},
   "source": [
    "```python\n",
    "try:\n",
    "!jupyter nbconvert --to python filename.ipynb\n",
    "except:\n",
    "pass\n",
    "```"
   ]
  },
  {
   "cell_type": "markdown",
   "metadata": {},
   "source": [
    "2.`PowerShell` 环境变量设定"
   ]
  },
  {
   "cell_type": "markdown",
   "metadata": {},
   "source": [
    "在学习编程中不可避免会要用到黑屏终端，但是 `cmd` 和 `Anaconda` 自己的 `PowerShell` 实在太丑使用影响心情，于是选用蓝屏的 `Windows PowerShell`。但是使用的时候必须要进行环境变量的设置，简单地说就是将程序的路径配置到环境变量的 `path` 中。"
   ]
  },
  {
   "cell_type": "markdown",
   "metadata": {},
   "source": [
    "3.`Pandas`,`NumPy`,`Matpoltlib` 模块间数据类型转化很重要"
   ]
  },
  {
   "cell_type": "markdown",
   "metadata": {},
   "source": [
    "在用 `Python` 实现 **Markowitz**的有效前沿时，`Pandas` 的 `DataFrame` 数据不能被 `Matpoltlib` 模块调用，调查实践了很久才发现，数据类型不同导致的问题。这之后我又回头把 `Python` 及其他主要模块的书数据类型又刷了一遍，发现了很多以前忽略的重要内容。"
   ]
  },
  {
   "cell_type": "markdown",
   "metadata": {},
   "source": [
    "4.`Virtualenv` 虚拟环境搭建"
   ]
  },
  {
   "cell_type": "markdown",
   "metadata": {},
   "source": [
    "刷官网 **pythonbasics.org** 里 exercises 的时候，遇到 `Virtualenv` 虚拟环境的搭建，试了一下 `PowerShall` 报错，以为肯定又是环境变量的问题，试了试以前的方法还是解决不了；因为觉得暂时没有必要就要跳过；回头一想这也是一个学习成长的机会，于是有一番搜索苦战，终于搭建好了一个专门用来数据分析的虚拟环境。想想还是没有成就感的。"
   ]
  },
  {
   "cell_type": "markdown",
   "metadata": {},
   "source": [
    "### 最后"
   ]
  },
  {
   "cell_type": "markdown",
   "metadata": {},
   "source": [
    "这篇总结是我用 VS Code 写的 [**markdown**](https://b23.tv/av75225128/p1) 文件，过程中温习了 md 语法，Git 操作，HTML 转化，VS Code 用法，实际是一次整体的综合演练。掌握了以前忽视的一些用法，语法和内容；输出倒逼输入确实是学习的不二法门。再接再厉！"
   ]
  },
  {
   "cell_type": "markdown",
   "metadata": {},
   "source": [
    "祝即将要踏上学习里程的你，学有收获，加油！"
   ]
  },
  {
   "cell_type": "markdown",
   "metadata": {},
   "source": [
    "---"
   ]
  },
  {
   "cell_type": "markdown",
   "metadata": {},
   "source": [
    "[**本文的 PRESS.one 签名**](https://press.one/file/v?s=813973a5ff6ca29e4b741c10d3dbeec2102927703c198582ae232b603a5c5bfd17708c36315b27be1fa40c1caad2820a7a1194a22f1d3974917e77fece266bf900&h=6e1d8cdac3f4f9790ca8462b42ed1d67d4e34a5afd583512bed5a3f3463994ae&a=7c08521960497a61baf3f1c9760ff2a4cc66be1c&f=P1&v=3)"
   ]
  },
  {
   "cell_type": "markdown",
   "metadata": {},
   "source": [
    "**定投践行社区**里面有李俊老师的**Python 编程课**，刘晓艳老师的**英文课**(正在讲的是《**beyond feelings**》)，廖智小姐姐的幸福力 (**汶川地震 30 小时深埋地下的感悟**)，还有李笑来老师的**写作课**和**[定投课](https://xue.cn/hub/app/books/58)**，超值体验如果你也想加入，下载 [**Mixin**](https://mixin.one/) 加我 (ID: **21120**) 好友，送你邀请码。"
   ]
  },
  {
   "cell_type": "markdown",
   "metadata": {},
   "source": [
    "**注:** 践行社区是建立在 [**Mixin Massager**](https://mp.weixin.qq.com/s/ci_OWj9vtnsJ4OROifNfSQ) 上的社群，所以你必须学会使用 Mixin Massager；同时践行社区是封闭课程社区没有邀请码不能加入。)"
   ]
  },
  {
   "cell_type": "markdown",
   "metadata": {},
   "source": [
    "## 感悟自学 Python--xue.cn 语音分享内容整理"
   ]
  },
  {
   "cell_type": "markdown",
   "metadata": {},
   "source": [
    "3 月 15 日，在 “XUE.cn 一起自学编程” 社群里，跟大家分享了一下我自己自学 python 的感悟。给一部分朋友和伙伴带去了一定的激励；把内容重新整理成文本方便以后查看，也希望更多的朋友一起，在学习编程的路上共同前行，少走弯路。"
   ]
  },
  {
   "cell_type": "markdown",
   "metadata": {},
   "source": [
    "**< 下面是分享内容的整理>**"
   ]
  },
  {
   "cell_type": "markdown",
   "metadata": {},
   "source": [
    "### 一、自学不是一个人学"
   ]
  },
  {
   "cell_type": "markdown",
   "metadata": {},
   "source": [
    "自学习从来都不是一个人学习，特别是在当前互联网时代；它是一个整合，利用当前互联网资源，在效率上和效果上提升自身知识和能力水平的过程。当前的互联网资源主要分为，学习资源和社群资源两大类："
   ]
  },
  {
   "cell_type": "markdown",
   "metadata": {},
   "source": [
    "1. 互联网学习资源"
   ]
  },
  {
   "cell_type": "markdown",
   "metadata": {},
   "source": [
    "**书籍，视频，音频等**"
   ]
  },
  {
   "cell_type": "markdown",
   "metadata": {},
   "source": [
    "当前的互联网中有数以亿计的学习资源，各类电子书籍，视频教程，音频教程；从各个方面满足我们在不同场景下的学习需求。坚持做到下面两个原则，在面对海量的学习资源时就不会不知所措。\n",
    "> 1. 选择合适场景下的优质学习资源（前辈伙伴推荐含推荐理由，或者可信大 v 的建议）\n",
    "编程是门关于实践的知识和能力，单纯靠看和听是没有办法掌握的。所以合适的学习资源应该是与实践相结合的学习资源，如 xue.cn 等。\n",
    "> 2. 抓住一本书或者一个学习资源，坚持学习练习到底，忌半途而废。\n",
    "编程是个整体知识体系，半途而废，频繁切换是没有办法掌握的。"
   ]
  },
  {
   "cell_type": "markdown",
   "metadata": {},
   "source": [
    "**搜索引擎**"
   ]
  },
  {
   "cell_type": "markdown",
   "metadata": {},
   "source": [
    "这是大家熟知的问题切入工具和解决方案库，熟练高效的使用搜索引擎会加速学习实践的效率，并掌握多种角度分析问题和多种实践方式，深一层的了解问题和知识的本质，以提升自己解决问题的能力。推荐使用：google，baidu 英文（广告少）。"
   ]
  },
  {
   "cell_type": "markdown",
   "metadata": {},
   "source": [
    "2. 社群资源"
   ]
  },
  {
   "cell_type": "markdown",
   "metadata": {},
   "source": [
    "我对社群的理解是具有共同目标的人所组成的群体，如 python 学习社群，定投践行社群等等。"
   ]
  },
  {
   "cell_type": "markdown",
   "metadata": {},
   "source": [
    "- 在社群里，伙伴们抱团成长，分享，各自成功和失败经验，加速提高学习效率和能力的提升"
   ]
  },
  {
   "cell_type": "markdown",
   "metadata": {},
   "source": [
    "- 群里伙伴们层次各不相同，向先行者提问也是社群的主要作用之一。"
   ]
  },
  {
   "cell_type": "markdown",
   "metadata": {},
   "source": [
    "需要注意的是：提问要有深度，忌做伸手党。如 google N 久无解，issues 里面没有，wiki 也没有提及的才是好问题。先行者或大 v 也愿意回复，因为这也是他们进一步成长的一次机会。多数情况下，经历几轮 google 问题就会解决，这时候可以把你的解决方案整理，在社群 issue 里，wiki 里发布；可以启发其他人，让伙伴们少走一些弯路。"
   ]
  },
  {
   "cell_type": "markdown",
   "metadata": {},
   "source": [
    "### 二、主动学习效率更高"
   ]
  },
  {
   "cell_type": "markdown",
   "metadata": {},
   "source": [
    "**1. 自学是一种主动学习**"
   ]
  },
  {
   "cell_type": "markdown",
   "metadata": {},
   "source": [
    "本身自学就是一种主动学习：选择是自己主动做出的，目标与计划是自己定的，时间也是自己付出的，里程碑和成果也是自己做出来的。需要的是自己要对自己负责，对得起自己。"
   ]
  },
  {
   "cell_type": "markdown",
   "metadata": {},
   "source": [
    "**2. 面授课 vs 远程课**"
   ]
  },
  {
   "cell_type": "markdown",
   "metadata": {},
   "source": [
    "学习过程中为了加速学习，特别是新领域的学习，报一个班级是不可避免的。但是学习过程需要尽量选择主动学习。举个例子，在学习 CFA 的时候我报了个班，班里有面授课和远程课：面授课是上老师的课，听老师的讲解，课后可以和老师沟通交流；远程课则是看老师录制的学习视频，做课后习题进行巩固。"
   ]
  },
  {
   "cell_type": "markdown",
   "metadata": {},
   "source": [
    "两者本质的区别是面授课的中心是老师，节奏是老师来掌控的，所以学生是被动接收的，无论该知识点已经掌握或是听了也没懂。时间的利用效率很低，就像我们上学读书的时候，大多数时间都在课堂上睡觉一样。"
   ]
  },
  {
   "cell_type": "markdown",
   "metadata": {},
   "source": [
    "远程课的中心是学生自己，可以 1.5 甚至 2 倍速的听学习内容，对于不懂内容可以重复听多遍，这个时候学生的注意力高度集中，效率和长期效果都很好。"
   ]
  },
  {
   "cell_type": "markdown",
   "metadata": {},
   "source": [
    "关键是：**主动，重心放在自己身上**。"
   ]
  },
  {
   "cell_type": "markdown",
   "metadata": {},
   "source": [
    "**3. 主动学习的切入：**"
   ]
  },
  {
   "cell_type": "markdown",
   "metadata": {},
   "source": [
    "在主动学习的时候，第一个念头就是该怎么切入学习呢？切入方式大致分一下两种："
   ]
  },
  {
   "cell_type": "markdown",
   "metadata": {},
   "source": [
    "**TopDown**"
   ]
  },
  {
   "cell_type": "markdown",
   "metadata": {},
   "source": [
    "高屋建瓴，先从整体上把握知识的整体和全局，画出知识图谱，然后再一个一个的学习填坑，构建各个模块的关系，最后形成一个整体。"
   ]
  },
  {
   "cell_type": "markdown",
   "metadata": {},
   "source": [
    "例如 python 编程的全局包括：基本逻辑语法，数据结构，运算与算法，函数，类与对象，模块与包，IO 操作，正则，爬虫，wab 程序，进程与线程，app 程序，前台 (HTML，css，js)，后台 (数据库，站点)，信息交互，同步与异步，请求与响应，Github，安全。"
   ]
  },
  {
   "cell_type": "markdown",
   "metadata": {},
   "source": [
    "全局整体认识，然后一块一块深入学习。"
   ]
  },
  {
   "cell_type": "markdown",
   "metadata": {},
   "source": [
    "**BottemUp**"
   ]
  },
  {
   "cell_type": "markdown",
   "metadata": {},
   "source": [
    "这是另一种方式，抓住一个模块学精学透，然后再学下一个模块，然后构建两者的关系，依次下去，最后形成知识体系。"
   ]
  },
  {
   "cell_type": "markdown",
   "metadata": {},
   "source": [
    "两种方式都可以，适合不同的人群。我个人喜欢 TopDown 的学习方式，因为有掌控感和方向感，随时知道自己在哪里，不会迷失。"
   ]
  },
  {
   "cell_type": "markdown",
   "metadata": {},
   "source": [
    "### 三、实践是最好的学习方法"
   ]
  },
  {
   "cell_type": "markdown",
   "metadata": {},
   "source": [
    "对于知识，教授是最好的学习方法；而对于技能来说，实践是最好的学习方法。特别是编程这类技能，在实践中印证知识，区分细节，多方案比较是编程学习的捷径。"
   ]
  },
  {
   "cell_type": "markdown",
   "metadata": {},
   "source": [
    "#### 1. 行业里流行大神 **Linus** 的一句话"
   ]
  },
  {
   "cell_type": "markdown",
   "metadata": {},
   "source": [
    "**Talk is cheep，Show me the code**"
   ]
  },
  {
   "cell_type": "markdown",
   "metadata": {},
   "source": [
    "记住它，把它当成自己的口头禅，有事没事说几遍，养成用实践代码说话的习惯。"
   ]
  },
  {
   "cell_type": "markdown",
   "metadata": {},
   "source": [
    "#### 2. 解决问题是学习原动力"
   ]
  },
  {
   "cell_type": "markdown",
   "metadata": {},
   "source": [
    "举几个我自己的经历："
   ]
  },
  {
   "cell_type": "markdown",
   "metadata": {},
   "source": [
    "**学习日文**"
   ]
  },
  {
   "cell_type": "markdown",
   "metadata": {},
   "source": [
    "05 年刚刚到日本工作的时候，我日文水平三级不到（日常对话都费劲），花时间学完再用已经不现实了。于是我给自己定下规矩：放弃中文思维，刻意脱离中文环境，抓住一切场合使用日文。于是买菜，买日用品的时候会和老板多说几句；工作中多找日本人问，说自己的想法；报个驾校在日文环境下学习开车等等。"
   ]
  },
  {
   "cell_type": "markdown",
   "metadata": {},
   "source": [
    "一次性通过拿到了日本驾照，相比这个我更开心的是我跨过了学习日文思维门槛，可以用日语思考和日本人进行对话了。到日本仅 1 年后我拿到日文 1 级，口语评定 “母语-”。整个过程让我切身地体会到，用是最好的学，就像李老师说的天天用英语一样，在实践当中使用，频繁的的使用，刻意的使用才是技能学习最好的方式。"
   ]
  },
  {
   "cell_type": "markdown",
   "metadata": {},
   "source": [
    "但是，我的英文却还没有达到日文的水平，为什么呢？因为用英文交流还不是我当前所面对的问题。解决现实问题（在日本交流问题），是我学习日文的原动力。同样，想要学好 Python 也必须要给学习 Python 赋予解决问题的使命。"
   ]
  },
  {
   "cell_type": "markdown",
   "metadata": {},
   "source": [
    "**日本工作期间学习 VBA 编程**"
   ]
  },
  {
   "cell_type": "markdown",
   "metadata": {},
   "source": [
    "在日工作期间，有一份工作是频繁导出数据库，用 excel 进行重复删选，汇总成自己需要的格式输出。实在受不了手动的完成这个频繁，重复性的工作；就花了点时间学习 VBA，开发了一个小工具自动来完成；后续接入 access 数据库，增加其他几个功能，做成一个完整的工具，使得整个部门的效率提升了 30% 左右，受到嘉奖。这也是解决现实中的问题，推动的学习的例子，高效率，高效果。"
   ]
  },
  {
   "cell_type": "markdown",
   "metadata": {},
   "source": [
    "其他的还有很多，比如为了帮助表弟完成论文编程，快速学习 Python 的数据清洗和数据处理的主要库（Pandas，NumPy，SciPy，Matpoltlib 等）；为了搭建自己的飞贴站，学习 Linux，nignx，docker，和数据库；为了保证站点安全学习 TLS&CA 证书，ssh 服务等等。"
   ]
  },
  {
   "cell_type": "markdown",
   "metadata": {},
   "source": [
    "对于我来讲，解决问题确实是我学习编程的原动力，并能使我持续的学习下去。"
   ]
  },
  {
   "cell_type": "markdown",
   "metadata": {},
   "source": [
    "#### 3. 完成比完美更重要"
   ]
  },
  {
   "cell_type": "markdown",
   "metadata": {},
   "source": [
    "1. 完美是没有止境的，完成更加重要"
   ]
  },
  {
   "cell_type": "markdown",
   "metadata": {},
   "source": [
    "完美会让你陷入到问题之中，为了一细小问题耗费很多精力和实践，甚至于学习的动力和意愿；抗得过去还好，抗不过来就会影响心绪，最后选择放弃。"
   ]
  },
  {
   "cell_type": "markdown",
   "metadata": {},
   "source": [
    "往往完成之后，会得到及时反馈，提供新的思路，增加后续完美的效率。"
   ]
  },
  {
   "cell_type": "markdown",
   "metadata": {},
   "source": [
    "所有完成优先于完美，更加重要。"
   ]
  },
  {
   "cell_type": "markdown",
   "metadata": {},
   "source": [
    "2. 完成之后不要忘了完美；完美的过程是理清概念，区分微妙差别，深入了解理论，技能升华的有效方法。"
   ]
  },
  {
   "cell_type": "markdown",
   "metadata": {},
   "source": [
    "我在做计算器编程练习的时候，核心算法优先使用了 eval 快速完成应用，在成就感上做足心理建设。然后再回过头来实现计算字符串表达式的值的代码，过程中头脑清洗，效率奇高。"
   ]
  },
  {
   "cell_type": "markdown",
   "metadata": {},
   "source": [
    "协助表弟完成论文的时候，优先使用原来的核心代码，调整数据源和清洗过程完成论文的内容交差。然后回过头来，优化代码减少循环次数缩短代码执行时间；将通用功能抽出为函数，放入自己的代码库。这个过程解构代码，深刻体会到，执行效率，抽出函数的作用。"
   ]
  },
  {
   "cell_type": "markdown",
   "metadata": {},
   "source": [
    "要完成就要有目标，漫无目标地学习效率很低；同时努力学习的过程，也是需要成果去验证与衡量的。"
   ]
  },
  {
   "cell_type": "markdown",
   "metadata": {},
   "source": [
    "比如，输出一段代码；比如真对一断代码的优化；再比如换一种方式再写一遍 ..."
   ]
  },
  {
   "cell_type": "markdown",
   "metadata": {},
   "source": [
    "3. 要有里程碑，在项目管理中叫可交付成果，这是检验阶段性学习成果的有效方法。"
   ]
  },
  {
   "cell_type": "markdown",
   "metadata": {},
   "source": [
    "下面举几个里程碑例子："
   ]
  },
  {
   "cell_type": "markdown",
   "metadata": {},
   "source": [
    "- 完成一个可用的小工具: 计算器，工作中的小工具，办公自动化工具等\n",
    "- 用 python 实现多种加密算法\n",
    "- 用 python 实现经济学和金融学的理论"
   ]
  },
  {
   "cell_type": "markdown",
   "metadata": {},
   "source": [
    "### 四、复盘总结的输出是技能深化的有效手段"
   ]
  },
  {
   "cell_type": "markdown",
   "metadata": {},
   "source": [
    "复盘总结是个温故知新的过程，每一次的总结都会有新的发现，对知识和技能都会有新的认识，是技能深化的有效手段。复盘总结分为头脑复盘，和文字输出，两者结合深入的学习。"
   ]
  },
  {
   "cell_type": "markdown",
   "metadata": {},
   "source": [
    "1. 头脑复盘"
   ]
  },
  {
   "cell_type": "markdown",
   "metadata": {},
   "source": [
    "每晚睡前在头脑里面过一下，用不了多久就会有一种可以透视代码的感觉。"
   ]
  },
  {
   "cell_type": "markdown",
   "metadata": {},
   "source": [
    "> 写了 100 行代码，怎么解决了一个问题？\n",
    ">\n",
    "> 这段代码还能怎么写？\n",
    ">\n",
    "> 今天遇到的问题，背后到底是啥？\n",
    ">\n",
    "> ..."
   ]
  },
  {
   "cell_type": "markdown",
   "metadata": {},
   "source": [
    "2. 文字输出"
   ]
  },
  {
   "cell_type": "markdown",
   "metadata": {},
   "source": [
    "文字的输出过程，会倒逼着你，回过头去把模棱两可和不清晰的部分想明白，写得尽可能明白。基本上我每次写总结得时候，都会把相关内容重新在读几遍，甚至于列出对比表格和思维导图，再次梳理一下。知识和技能自然也会随之提升。"
   ]
  },
  {
   "cell_type": "markdown",
   "metadata": {},
   "source": [
    "有一类通用得问题，区别点，特殊的用法由于数量庞大很难通过头脑记住；这些内容可以记录到总结输出里，以便自己可以回头去查找；同时也可以给伙伴看，分享一下经验，帮助同伴加速进步。"
   ]
  },
  {
   "cell_type": "markdown",
   "metadata": {},
   "source": [
    "### 五、学习 Python 的最佳实践"
   ]
  },
  {
   "cell_type": "markdown",
   "metadata": {},
   "source": [
    "鸡汤文要给勺子才好喝。下面就是勺子，我总结的自学 Python 编程的最佳实践："
   ]
  },
  {
   "cell_type": "markdown",
   "metadata": {},
   "source": [
    "1. 精读李笑来老师的 [《自学是门手艺》](https://xue.cn/hub/app/books/1)"
   ]
  },
  {
   "cell_type": "markdown",
   "metadata": {},
   "source": [
    "它会在心理战略层面和自学方法论方面的给你做建设，做准备。"
   ]
  },
  {
   "cell_type": "markdown",
   "metadata": {},
   "source": [
    "2. 学习李俊老师的 Python 编程课，音频课和支线课程，以及完成全部练习"
   ]
  },
  {
   "cell_type": "markdown",
   "metadata": {},
   "source": [
    "针对 Python 的编程学习，最适合初级和进阶者，没有之一。"
   ]
  },
  {
   "cell_type": "markdown",
   "metadata": {},
   "source": [
    "3. 多做案例，解决自己的实际问题，把编程用起来"
   ]
  },
  {
   "cell_type": "markdown",
   "metadata": {},
   "source": [
    "构建自己的里程碑地图，下面的是我的里程碑地图，有一部分还没有实现，希望给你一点启发"
   ]
  },
  {
   "cell_type": "markdown",
   "metadata": {},
   "source": [
    "> 开发一个可运行的计算器，字符串解析，计算表达式函数\n",
    ">\n",
    "> 操作 Excel，办公自动化\n",
    ">\n",
    "> 字符串操作练习（笑来老师例子，自己重写托福核心词汇 21 天突破）\n",
    ">\n",
    "> 实现并优化马克维斯的有效前言理论\n",
    ">\n",
    "> Github 上创建自己的主页\n",
    ">\n",
    "> 主页上和 pressone 同步跟新复盘总结\n",
    ">\n",
    "> 用 python 实践卓克老师的密码学课\n",
    ">\n",
    "> 学习通讯协议和 pressone 协议并总结\n",
    ">\n",
    "> 实践 Django 在本地搭建论坛\n",
    ">\n",
    "> 建立 seaky.club 飞贴站\n",
    ">\n",
    "> 运营 seakyrun 超级节点\n",
    ">\n",
    "> 编程实现经济学及金融学理论\n",
    ">\n",
    "> seaky.club 前端自定义，聚合飞贴站\n",
    ">\n",
    "> mixin 机器人开发\n",
    ">"
   ]
  },
  {
   "cell_type": "markdown",
   "metadata": {},
   "source": [
    "4. 对于每个里程碑都要进行复盘总结，并把总结内容在社群里分享"
   ]
  },
  {
   "cell_type": "markdown",
   "metadata": {},
   "source": [
    "做个广告，欢迎在 [seaky.club](https://seaky.club) 分享你的总结。"
   ]
  },
  {
   "cell_type": "markdown",
   "metadata": {},
   "source": [
    "---"
   ]
  },
  {
   "cell_type": "markdown",
   "metadata": {},
   "source": [
    "**定投践行社区**里面有李俊老师的**Python 编程课**，刘晓艳老师的**英文课**(正在讲的是《**beyond feelings**》)，廖智小姐姐的幸福力 (**汶川地震 30 小时深埋地下的感悟**)，老虎证券王珊老师的**读财报课**，还有李笑来老师的**写作课**和**定投课**，**定投时间**超值体验如果你也想加入，下载并注册 [**Mixin**](https://mixin.one/messenger) 加我 (ID: **21120**) 好友，送你邀请码。"
   ]
  },
  {
   "cell_type": "markdown",
   "metadata": {},
   "source": [
    "**注:** 践行社区是建立在 [**Mixin Massager**](https://mixin.one/messenger) 上的社群，所以你必须学会使用 Mixin Massager；同时践行社区是封闭课程社区没有邀请码不能加入。)"
   ]
  }
 ],
 "metadata": {
  "kernelspec": {
   "display_name": "Python 3",
   "language": "python",
   "name": "python3"
  },
  "language_info": {
   "codemirror_mode": {
    "name": "ipython",
    "version": 3
   },
   "file_extension": ".py",
   "mimetype": "text/x-python",
   "name": "python",
   "nbconvert_exporter": "python",
   "pygments_lexer": "ipython3",
   "version": "3.7.3"
  }
 },
 "nbformat": 4,
 "nbformat_minor": 2
}