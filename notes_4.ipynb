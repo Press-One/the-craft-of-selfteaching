{
 "cells": [
  {
   "cell_type": "markdown",
   "metadata": {},
   "source": [
    "本篇笔记投稿人：大丸子"
   ]
  },
  {
   "cell_type": "markdown",
   "metadata": {},
   "source": [
    "投稿请微信联系：qiaoanlu"
   ]
  },
  {
   "cell_type": "markdown",
   "metadata": {},
   "source": [
    "# 答题笔记：输入考试分数，自动得出考试等级"
   ]
  },
  {
   "cell_type": "markdown",
   "metadata": {},
   "source": [
    "[《自学是门手艺》1.5.3 流程控制](./Part.1.E.3.controlflow.ipynb) 第 4 题的要求是："
   ]
  },
  {
   "cell_type": "markdown",
   "metadata": {},
   "source": [
    "> 这段代码运行后具备交互能力：从使用者的输入中获得分数，代码自动运算并打印该分数对应的等级。\n",
    ">\n",
    "> 分数为整数，最低为 0，最高为 100。分数对应的等级为：\n",
    ">\n",
    "> 60 分及以下为 E\n",
    "> 60 到 70 分（包含 70 分）为 D\n",
    "> 70 到 80（包含 80 分）为 C\n",
    "> 80 到 90（包含 90 分）为 B\n",
    "> 90 分以上为 A"
   ]
  },
  {
   "cell_type": "markdown",
   "metadata": {},
   "source": [
    "## 解法 1：采用 if 语句"
   ]
  },
  {
   "cell_type": "markdown",
   "metadata": {},
   "source": [
    "这道题对于练习 if 语句非常有效。初次学习 [《自学是门手艺》](https://xue.cn/hub/app/books/1) 的人，几乎都会采用这类实现方式。"
   ]
  },
  {
   "cell_type": "code",
   "execution_count": 1,
   "metadata": {},
   "outputs": [
    {
     "name": "stdin",
     "output_type": "stream",
     "text": [
      "请输入分数（0 到 100 之间的整数），比如 78 >>  89\n"
     ]
    },
    {
     "name": "stdout",
     "output_type": "stream",
     "text": [
      "89 分，等级为 B\n"
     ]
    }
   ],
   "source": [
    "s = int(input('请输入分数（0 到 100 之间的整数），比如 78 >> '))\n",
    "\n",
    "if s <= 60:\n",
    "    print(s,'分，等级为 E')\n",
    "elif s <= 70:\n",
    "    print(s,'分，等级为 D')\n",
    "elif s <= 80:\n",
    "    print(s,'分，等级为 C')\n",
    "elif s <= 90:\n",
    "    print(s,'分，等级为 B')\n",
    "elif s > 90:\n",
    "    print(s,'分，等级为 A')\n",
    "else:\n",
    "    print('请输入 0 到 100 之间的整数。')"
   ]
  },
  {
   "cell_type": "markdown",
   "metadata": {},
   "source": [
    "还有没有更多实现方式呢？当然有。"
   ]
  },
  {
   "cell_type": "markdown",
   "metadata": {},
   "source": [
    "向你强烈推荐一个**值得刻意练习**的技巧：**总是尝试使用不同的代码实现方式，来完成一道题目**。"
   ]
  },
  {
   "cell_type": "markdown",
   "metadata": {},
   "source": [
    "这道题目可以玩出花的地方，在于数据容器。"
   ]
  },
  {
   "cell_type": "markdown",
   "metadata": {},
   "source": [
    "多少分对应什么等级，在上面的实现方式中，是直接打散写在 if 语句的各个分支中的。我们也可以构造一个数据容器来保存该数据。因为存在 “多少分对应什么等级”，字典是首先想到的选择。"
   ]
  },
  {
   "cell_type": "markdown",
   "metadata": {},
   "source": [
    "## 解法 2：采用字典"
   ]
  },
  {
   "cell_type": "markdown",
   "metadata": {},
   "source": [
    "等级分数的上限（含）作为字典的键，等级作为值。"
   ]
  },
  {
   "cell_type": "code",
   "execution_count": 2,
   "metadata": {},
   "outputs": [
    {
     "name": "stdin",
     "output_type": "stream",
     "text": [
      "请输入分数（0 到 100 之间的整数），比如 78 >> 92\n"
     ]
    },
    {
     "name": "stdout",
     "output_type": "stream",
     "text": [
      "92 分，等级为 A\n"
     ]
    }
   ],
   "source": [
    "# 等级分数的上限（含）作为字典的键\n",
    "info = {60:\"E\", 70:\"D\", 80:\"C\", 90:\"B\", 100:\"A\"}\n",
    "s = int(input(\"请输入分数（0 到 100 之间的整数），比如 78 >>\"))\n",
    "for i in info:\n",
    "    if s <= i:\n",
    "        level = info.get(i)\n",
    "        print(f\"{s} 分，等级为 {level}\")\n",
    "        break"
   ]
  },
  {
   "cell_type": "code",
   "execution_count": 6,
   "metadata": {},
   "outputs": [
    {
     "data": {
      "text/plain": [
       "\u001b[1;31mSignature:\u001b[0m \u001b[0mdict\u001b[0m\u001b[1;33m.\u001b[0m\u001b[0mget\u001b[0m\u001b[1;33m(\u001b[0m\u001b[0mself\u001b[0m\u001b[1;33m,\u001b[0m \u001b[0mkey\u001b[0m\u001b[1;33m,\u001b[0m \u001b[0mdefault\u001b[0m\u001b[1;33m=\u001b[0m\u001b[1;32mNone\u001b[0m\u001b[1;33m,\u001b[0m \u001b[1;33m/\u001b[0m\u001b[1;33m)\u001b[0m\u001b[1;33m\u001b[0m\u001b[1;33m\u001b[0m\u001b[0m\n",
       "\u001b[1;31mDocstring:\u001b[0m Return the value for key if key is in the dictionary, else default.\n",
       "\u001b[1;31mType:\u001b[0m      method_descriptor\n"
      ]
     },
     "metadata": {},
     "output_type": "display_data"
    }
   ],
   "source": [
    "#使用该方式，可以随时查询 Python 官方文档\n",
    "dict.get?"
   ]
  },
  {
   "cell_type": "markdown",
   "metadata": {},
   "source": [
    "**需要温习字典的用法，阅读 [《自学是门手艺》](https://xue.cn/hub/app/books/1)[数据容器](./Part.1.E.6.containers.ipynb)**"
   ]
  },
  {
   "cell_type": "markdown",
   "metadata": {},
   "source": [
    "留给大家一个思考题，如果采用等级作为字典的键，等级分数的上限（含）作为值，这样颠倒一下，是不是依然很好实现呢？我自己试了一下，复杂度提高了不少。"
   ]
  },
  {
   "cell_type": "markdown",
   "metadata": {},
   "source": [
    "由于我们是根据 “分数” 来查询 “等级”，所以 “分数” 作为字典的键，将更容易实现。你最好自己写代码试试看，加深对这一点的体会。"
   ]
  },
  {
   "cell_type": "markdown",
   "metadata": {},
   "source": [
    "## 解法 3：采用更复杂的字典"
   ]
  },
  {
   "cell_type": "markdown",
   "metadata": {},
   "source": [
    "当你学习 [《自学是门手艺》](https://xue.cn/hub/app/books/1) 第 n 遍且实战经验逐步增多时，你开始对自己提高要求："
   ]
  },
  {
   "cell_type": "markdown",
   "metadata": {},
   "source": [
    "1. 希望把代码写得更健壮一些：会检测通过 input() 获取的字符串到底是不是 0 到 100 之间的整数。"
   ]
  },
  {
   "cell_type": "markdown",
   "metadata": {},
   "source": [
    "2. 希望保存分数和等级对应关系的数据容器，更易读一些：能直接从代码看懂数据的意义，而非注释。"
   ]
  },
  {
   "cell_type": "markdown",
   "metadata": {},
   "source": [
    "然后你写出以下代码："
   ]
  },
  {
   "cell_type": "code",
   "execution_count": 3,
   "metadata": {},
   "outputs": [
    {
     "name": "stdin",
     "output_type": "stream",
     "text": [
      "请输入您的分数 (从 0 到 100 的整数)： -9\n",
      "请输入您的分数 (从 0 到 100 的整数)：abc\n",
      "请输入您的分数 (从 0 到 100 的整数)：好的\n",
      "请输入您的分数 (从 0 到 100 的整数)：89\n"
     ]
    },
    {
     "name": "stdout",
     "output_type": "stream",
     "text": [
      "您的考试等级为 B\n"
     ]
    }
   ],
   "source": [
    "# 考试分数与等级的对应关系\n",
    "levels = {\n",
    "    \"A\":{\"max\":100,\"min\":91},\n",
    "    \"B\":{\"max\":90,\"min\":81},\n",
    "    \"C\":{\"max\":80,\"min\":71},\n",
    "    \"D\":{\"max\":70,\"min\":61},\n",
    "    \"E\":{\"max\":60,\"min\":0},\n",
    "}\n",
    "\n",
    "# 检查输入的合法性直至完全正确\n",
    "check = False\n",
    "while check == False:\n",
    "    score = input(\"请输入您的分数 (从 0 到 100 的整数)：\")\n",
    "    try:\n",
    "        score = int(score)\n",
    "        if score >= 0 and score <=100:\n",
    "            check = True\n",
    "    except:\n",
    "        continue\n",
    "\n",
    "# 查询考试等级\n",
    "for level in levels.keys():\n",
    "    if score <= levels[level][\"max\"] and score >= levels[level][\"min\"]:\n",
    "        print(\"您的考试等级为 {}\".format(level))"
   ]
  },
  {
   "cell_type": "code",
   "execution_count": 10,
   "metadata": {},
   "outputs": [
    {
     "data": {
      "text/plain": [
       "\u001b[1;31mDocstring:\u001b[0m\n",
       "S.format(*args, **kwargs) -> str\n",
       "\n",
       "Return a formatted version of S, using substitutions from args and kwargs.\n",
       "The substitutions are identified by braces ('{' and '}').\n",
       "\u001b[1;31mType:\u001b[0m      method_descriptor\n"
      ]
     },
     "metadata": {},
     "output_type": "display_data"
    }
   ],
   "source": [
    "#使用该方式，可以随时查询 Python 官方文档\n",
    "str.format?"
   ]
  },
  {
   "cell_type": "markdown",
   "metadata": {},
   "source": [
    "当你通过 [《自学是门手艺》](https://xue.cn/hub/app/books/1) 入门，并对数据分析感兴趣，学了数据分析必学的 pandas 后，你试着用正热乎的新知识点，重新实现了这个题目。"
   ]
  },
  {
   "cell_type": "markdown",
   "metadata": {},
   "source": [
    "## 解法 4：采用 dataframe"
   ]
  },
  {
   "cell_type": "markdown",
   "metadata": {},
   "source": [
    "当然，为了充分测试 pandas 的代码，你采用 random 生成随机分数 —— 随时随地考虑如何用代码来减少手工操作量，也成为了你的一个新习惯。"
   ]
  },
  {
   "cell_type": "markdown",
   "metadata": {},
   "source": [
    "多次运行下方代码试试看吧 ~"
   ]
  },
  {
   "cell_type": "code",
   "execution_count": 5,
   "metadata": {},
   "outputs": [
    {
     "name": "stdout",
     "output_type": "stream",
     "text": [
      "考试 84 分，等级为 B\n"
     ]
    }
   ],
   "source": [
    "import pandas as pd\n",
    "import random\n",
    "\n",
    "s = random.randrange(0,100)\n",
    "df = pd.DataFrame({\"level\":list(\"ABCDE\"),\"max_score\":list(range(100,50,-10))})\n",
    "level = df[df[\"max_score\"]>=s][\"level\"].max()\n",
    "print(f\"考试 {s} 分，等级为 {level}\")"
   ]
  },
  {
   "cell_type": "code",
   "execution_count": 12,
   "metadata": {},
   "outputs": [
    {
     "data": {
      "text/plain": [
       "\u001b[1;31mSignature:\u001b[0m \u001b[0mrandom\u001b[0m\u001b[1;33m.\u001b[0m\u001b[0mrandrange\u001b[0m\u001b[1;33m(\u001b[0m\u001b[0mstart\u001b[0m\u001b[1;33m,\u001b[0m \u001b[0mstop\u001b[0m\u001b[1;33m=\u001b[0m\u001b[1;32mNone\u001b[0m\u001b[1;33m,\u001b[0m \u001b[0mstep\u001b[0m\u001b[1;33m=\u001b[0m\u001b[1;36m1\u001b[0m\u001b[1;33m,\u001b[0m \u001b[0m_int\u001b[0m\u001b[1;33m=\u001b[0m\u001b[1;33m<\u001b[0m\u001b[1;32mclass\u001b[0m \u001b[1;34m'int'\u001b[0m\u001b[1;33m>\u001b[0m\u001b[1;33m)\u001b[0m\u001b[1;33m\u001b[0m\u001b[1;33m\u001b[0m\u001b[0m\n",
       "\u001b[1;31mDocstring:\u001b[0m\n",
       "Choose a random item from range(start, stop[, step]).\n",
       "\n",
       "This fixes the problem with randint() which includes the\n",
       "endpoint; in Python this is usually not what you want.\n",
       "\u001b[1;31mFile:\u001b[0m      c:\\programdata\\anaconda3\\lib\\random.py\n",
       "\u001b[1;31mType:\u001b[0m      method\n"
      ]
     },
     "metadata": {},
     "output_type": "display_data"
    }
   ],
   "source": [
    "#使用该方式，可以随时查询 Python 官方文档\n",
    "random.randrange?"
   ]
  },
  {
   "cell_type": "markdown",
   "metadata": {},
   "source": [
    "如果你已经学完 [《自学是门手艺》](https://xue.cn/hub/app/books/1)，也想要了解数据分析，掌握 pandas 库，那么 [《跟老齐学 Python：数据分析》](https://xue.cn/hub/app/books/20) 是个不错的选择。"
   ]
  },
  {
   "cell_type": "markdown",
   "metadata": {},
   "source": [
    "2020 年 5 月 28 日"
   ]
  }
 ],
 "metadata": {
  "kernelspec": {
   "display_name": "Python 3",
   "language": "python",
   "name": "python3"
  },
  "language_info": {
   "codemirror_mode": {
    "name": "ipython",
    "version": 3
   },
   "file_extension": ".py",
   "mimetype": "text/x-python",
   "name": "python",
   "nbconvert_exporter": "python",
   "pygments_lexer": "ipython3",
   "version": "3.7.3"
  }
 },
 "nbformat": 4,
 "nbformat_minor": 2
}