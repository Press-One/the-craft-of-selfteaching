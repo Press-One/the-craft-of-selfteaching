{
 "cells": [
  {
   "cell_type": "markdown",
   "metadata": {},
   "source": [
    "本篇笔记投稿人：张红森、大丸子"
   ]
  },
  {
   "cell_type": "markdown",
   "metadata": {},
   "source": [
    "投稿请微信联系：qiaoanlu"
   ]
  },
  {
   "cell_type": "markdown",
   "metadata": {},
   "source": [
    "# 答题笔记：对给定列表进行运算后返回字典"
   ]
  },
  {
   "cell_type": "markdown",
   "metadata": {},
   "source": [
    "[《自学是门手艺》](https://xue.cn/hub/app/books/1) 习题第 9 题的要求是："
   ]
  },
  {
   "cell_type": "markdown",
   "metadata": {},
   "source": [
    "> 指定列表为 [56, 45, 576, 899, 12, 100]\n",
    ">\n",
    "> 请生成一个字典：该字典的键是列表元素的各位数的和（比如：121 的各位数之和为 1+2+1 即 4），该字典的值是列表元素的位置（索引）。"
   ]
  },
  {
   "cell_type": "markdown",
   "metadata": {},
   "source": [
    "字典的元素是由两部分构成：键 key 和 值 value（又称键值对）。根据题目要求，可以把该题分成两个子问题："
   ]
  },
  {
   "cell_type": "markdown",
   "metadata": {},
   "source": [
    "> 1、如何求一个自然数各位数之和？\n",
    ">\n",
    "> 2、怎样获得列表某个元素的索引？\n",
    ">\n",
    "> 3、如何构造字典并更新其数据？"
   ]
  },
  {
   "cell_type": "markdown",
   "metadata": {},
   "source": [
    "其中一种实现方式如下："
   ]
  },
  {
   "cell_type": "code",
   "execution_count": 1,
   "metadata": {},
   "outputs": [
    {
     "data": {
      "text/plain": [
       "{11: 0, 9: 1, 18: 2, 26: 3, 3: 4, 1: 5}"
      ]
     },
     "execution_count": 1,
     "metadata": {},
     "output_type": "execute_result"
    }
   ],
   "source": [
    "a = [56, 45, 576, 899, 12, 100]\n",
    "rlt = {}\n",
    "for i in a:\n",
    "    s = sum(map(int,str(i)))\n",
    "    rlt[s] = a.index(i)\n",
    "rlt"
   ]
  },
  {
   "cell_type": "markdown",
   "metadata": {},
   "source": [
    "下面再详解每个需求点的不同实现方式。"
   ]
  },
  {
   "cell_type": "markdown",
   "metadata": {},
   "source": [
    "## 1、如何求一个自然数的各位数之和？"
   ]
  },
  {
   "cell_type": "markdown",
   "metadata": {},
   "source": [
    "题目中已经介绍了什么叫做 “各位数” 的和。下面展示一些实现方式。"
   ]
  },
  {
   "cell_type": "markdown",
   "metadata": {},
   "source": [
    "最常用的方法是把该自然数的数据类型转换为字符串，再把字符串中每位数字提取并转换为整数即 int，此时的数字都是一位数，然后求和。"
   ]
  },
  {
   "cell_type": "markdown",
   "metadata": {},
   "source": [
    "以整数 1314 为例："
   ]
  },
  {
   "cell_type": "markdown",
   "metadata": {},
   "source": [
    "口算可知：1 + 3 + 1 + 4 为 9，而代码实现如下："
   ]
  },
  {
   "cell_type": "markdown",
   "metadata": {},
   "source": [
    "### 1.1 使用 sum() 和 map()"
   ]
  },
  {
   "cell_type": "code",
   "execution_count": 2,
   "metadata": {},
   "outputs": [
    {
     "name": "stdout",
     "output_type": "stream",
     "text": [
      "9\n"
     ]
    }
   ],
   "source": [
    "num = 1314\n",
    "s = sum(map(int,str(num)))\n",
    "print(s)"
   ]
  },
  {
   "cell_type": "markdown",
   "metadata": {},
   "source": [
    "上面仅用一行代码就实现了 “求自然数各位数之和”，对于萌新来说不太好理解。下面我将拆分每一步，同时打印当时的值和数据类型，方便大家理解。"
   ]
  },
  {
   "cell_type": "code",
   "execution_count": 3,
   "metadata": {},
   "outputs": [
    {
     "name": "stdout",
     "output_type": "stream",
     "text": [
      "1314 <class 'int'>\n",
      "1314 <class 'str'>\n",
      "9\n"
     ]
    }
   ],
   "source": [
    "num = 1314\n",
    "#=> 1314 <class 'int'>\n",
    "print(num,type(num))\n",
    "\n",
    "#把 int 转换为 str\n",
    "num = str(num)\n",
    "#=> 1314 <class 'str'>\n",
    "print(num,type(num))\n",
    "\n",
    "#把字符串中的每一个字符都转换为 int 类型，并对它们求和\n",
    "s = sum(map(int,num))\n",
    "print(s)"
   ]
  },
  {
   "cell_type": "markdown",
   "metadata": {},
   "source": [
    "上面用到了 Python 内置函数 sum() 和 map() ，都是非常高频使用到的方法。如果你此前很少看到或用到，也强烈建议大家掌握。"
   ]
  },
  {
   "cell_type": "code",
   "execution_count": 4,
   "metadata": {},
   "outputs": [
    {
     "data": {
      "text/plain": [
       "\u001b[1;31mSignature:\u001b[0m \u001b[0msum\u001b[0m\u001b[1;33m(\u001b[0m\u001b[0miterable\u001b[0m\u001b[1;33m,\u001b[0m \u001b[0mstart\u001b[0m\u001b[1;33m=\u001b[0m\u001b[1;36m0\u001b[0m\u001b[1;33m,\u001b[0m \u001b[1;33m/\u001b[0m\u001b[1;33m)\u001b[0m\u001b[1;33m\u001b[0m\u001b[1;33m\u001b[0m\u001b[0m\n",
       "\u001b[1;31mDocstring:\u001b[0m\n",
       "Return the sum of a 'start' value (default: 0) plus an iterable of numbers\n",
       "\n",
       "When the iterable is empty, return the start value.\n",
       "This function is intended specifically for use with numeric values and may\n",
       "reject non-numeric types.\n",
       "\u001b[1;31mType:\u001b[0m      builtin_function_or_method\n"
      ]
     },
     "metadata": {},
     "output_type": "display_data"
    }
   ],
   "source": [
    "sum?"
   ]
  },
  {
   "cell_type": "code",
   "execution_count": 5,
   "metadata": {},
   "outputs": [
    {
     "data": {
      "text/plain": [
       "\u001b[1;31mInit signature:\u001b[0m \u001b[0mmap\u001b[0m\u001b[1;33m(\u001b[0m\u001b[0mself\u001b[0m\u001b[1;33m,\u001b[0m \u001b[1;33m/\u001b[0m\u001b[1;33m,\u001b[0m \u001b[1;33m*\u001b[0m\u001b[0margs\u001b[0m\u001b[1;33m,\u001b[0m \u001b[1;33m**\u001b[0m\u001b[0mkwargs\u001b[0m\u001b[1;33m)\u001b[0m\u001b[1;33m\u001b[0m\u001b[1;33m\u001b[0m\u001b[0m\n",
       "\u001b[1;31mDocstring:\u001b[0m     \n",
       "map(func, *iterables) --> map object\n",
       "\n",
       "Make an iterator that computes the function using arguments from\n",
       "each of the iterables.  Stops when the shortest iterable is exhausted.\n",
       "\u001b[1;31mType:\u001b[0m           type\n",
       "\u001b[1;31mSubclasses:\u001b[0m     \n"
      ]
     },
     "metadata": {},
     "output_type": "display_data"
    }
   ],
   "source": [
    "map?"
   ]
  },
  {
   "cell_type": "markdown",
   "metadata": {},
   "source": [
    "### 1.2 使用流程控制语句"
   ]
  },
  {
   "cell_type": "markdown",
   "metadata": {},
   "source": [
    "当然，即便不知道 sum() 和 map() 依然可以自己写代码实现该功能 —— 使用流程控制语句。"
   ]
  },
  {
   "cell_type": "code",
   "execution_count": 6,
   "metadata": {},
   "outputs": [
    {
     "name": "stdout",
     "output_type": "stream",
     "text": [
      "9\n"
     ]
    }
   ],
   "source": [
    "num = 1314\n",
    "\n",
    "s = 0\n",
    "for n in str(num):\n",
    "    s += int(n)\n",
    "print(s)"
   ]
  },
  {
   "cell_type": "markdown",
   "metadata": {},
   "source": [
    "### 1.3 使用整数除法求余和求整商"
   ]
  },
  {
   "cell_type": "markdown",
   "metadata": {},
   "source": [
    "这种做法非常符合大家对数字的直观理解。采用数字本身的含义，数字除以 10 得到的余数是个位数的值，再次除以 10 得到的余数是十位数的值，以此类推，使用 while 循环求和即可。"
   ]
  },
  {
   "cell_type": "code",
   "execution_count": 7,
   "metadata": {},
   "outputs": [
    {
     "name": "stdout",
     "output_type": "stream",
     "text": [
      "9\n"
     ]
    }
   ],
   "source": [
    "num = 1314\n",
    "s = 0\n",
    "while num >= 1:\n",
    "    si = num%10 #整数除法求余数\n",
    "    num = num//10 #整数除法求整数商\n",
    "    s += si\n",
    "print(s)"
   ]
  },
  {
   "cell_type": "markdown",
   "metadata": {},
   "source": [
    "## 2、怎样获得列表某个元素的索引？"
   ]
  },
  {
   "cell_type": "markdown",
   "metadata": {},
   "source": [
    "### 2.1 采用 index()"
   ]
  },
  {
   "cell_type": "code",
   "execution_count": 8,
   "metadata": {},
   "outputs": [
    {
     "name": "stdout",
     "output_type": "stream",
     "text": [
      "56 的索引是 0\n",
      "45 的索引是 1\n",
      "576 的索引是 2\n",
      "899 的索引是 3\n",
      "12 的索引是 4\n",
      "100 的索引是 5\n"
     ]
    }
   ],
   "source": [
    "a = [56, 45, 576, 899, 12, 100]\n",
    "for i in a:\n",
    "    t = a.index(i)\n",
    "    print(f\"{i} 的索引是 {t}\")"
   ]
  },
  {
   "cell_type": "markdown",
   "metadata": {},
   "source": [
    "但这个方法有个坑，当列表中存在重复元素时，索引也会重复。这是因为 index() 方法就是这样定义的："
   ]
  },
  {
   "cell_type": "markdown",
   "metadata": {},
   "source": [
    "> Return first index of value."
   ]
  },
  {
   "cell_type": "code",
   "execution_count": 9,
   "metadata": {},
   "outputs": [
    {
     "name": "stdout",
     "output_type": "stream",
     "text": [
      "56 的索引是 0\n",
      "45 的索引是 1\n",
      "576 的索引是 2\n",
      "899 的索引是 3\n",
      "12 的索引是 4\n",
      "45 的索引是 1\n"
     ]
    }
   ],
   "source": [
    "a = [56, 45, 576, 899, 12, 45]\n",
    "for i in a:\n",
    "    t = a.index(i)\n",
    "    print(f\"{i} 的索引是 {t}\")"
   ]
  },
  {
   "cell_type": "code",
   "execution_count": 10,
   "metadata": {},
   "outputs": [
    {
     "data": {
      "text/plain": [
       "\u001b[1;31mSignature:\u001b[0m \u001b[0mlist\u001b[0m\u001b[1;33m.\u001b[0m\u001b[0mindex\u001b[0m\u001b[1;33m(\u001b[0m\u001b[0mself\u001b[0m\u001b[1;33m,\u001b[0m \u001b[0mvalue\u001b[0m\u001b[1;33m,\u001b[0m \u001b[0mstart\u001b[0m\u001b[1;33m=\u001b[0m\u001b[1;36m0\u001b[0m\u001b[1;33m,\u001b[0m \u001b[0mstop\u001b[0m\u001b[1;33m=\u001b[0m\u001b[1;36m9223372036854775807\u001b[0m\u001b[1;33m,\u001b[0m \u001b[1;33m/\u001b[0m\u001b[1;33m)\u001b[0m\u001b[1;33m\u001b[0m\u001b[1;33m\u001b[0m\u001b[0m\n",
       "\u001b[1;31mDocstring:\u001b[0m\n",
       "Return first index of value.\n",
       "\n",
       "Raises ValueError if the value is not present.\n",
       "\u001b[1;31mType:\u001b[0m      method_descriptor\n"
      ]
     },
     "metadata": {},
     "output_type": "display_data"
    }
   ],
   "source": [
    "list.index?"
   ]
  },
  {
   "cell_type": "markdown",
   "metadata": {},
   "source": [
    "当然，我们可以指定 start 参数，从而让 index() 返回准确的索引，不过代码就不会那么简约了。感兴趣的同学可以刻意练习一下该方法。"
   ]
  },
  {
   "cell_type": "markdown",
   "metadata": {},
   "source": [
    "### 2.2 采用 enumerate()"
   ]
  },
  {
   "cell_type": "code",
   "execution_count": 11,
   "metadata": {},
   "outputs": [
    {
     "name": "stdout",
     "output_type": "stream",
     "text": [
      "56 的索引是 0\n",
      "45 的索引是 1\n",
      "576 的索引是 2\n",
      "899 的索引是 3\n",
      "12 的索引是 4\n",
      "45 的索引是 5\n"
     ]
    }
   ],
   "source": [
    "a = [56, 45, 576, 899, 12, 45]\n",
    "for t,i in enumerate(a):\n",
    "    print(f\"{i} 的索引是 {t}\")"
   ]
  },
  {
   "cell_type": "code",
   "execution_count": 12,
   "metadata": {},
   "outputs": [
    {
     "data": {
      "text/plain": [
       "\u001b[1;31mInit signature:\u001b[0m \u001b[0menumerate\u001b[0m\u001b[1;33m(\u001b[0m\u001b[0miterable\u001b[0m\u001b[1;33m,\u001b[0m \u001b[0mstart\u001b[0m\u001b[1;33m=\u001b[0m\u001b[1;36m0\u001b[0m\u001b[1;33m)\u001b[0m\u001b[1;33m\u001b[0m\u001b[1;33m\u001b[0m\u001b[0m\n",
       "\u001b[1;31mDocstring:\u001b[0m     \n",
       "Return an enumerate object.\n",
       "\n",
       "  iterable\n",
       "    an object supporting iteration\n",
       "\n",
       "The enumerate object yields pairs containing a count (from start, which\n",
       "defaults to zero) and a value yielded by the iterable argument.\n",
       "\n",
       "enumerate is useful for obtaining an indexed list:\n",
       "    (0, seq[0]), (1, seq[1]), (2, seq[2]), ...\n",
       "\u001b[1;31mType:\u001b[0m           type\n",
       "\u001b[1;31mSubclasses:\u001b[0m     \n"
      ]
     },
     "metadata": {},
     "output_type": "display_data"
    }
   ],
   "source": [
    "enumerate?"
   ]
  },
  {
   "cell_type": "markdown",
   "metadata": {},
   "source": [
    "这个单词 `enumerate`（词义：列举、枚举）包含 9 个字母，对于英语不好的人来说，是一个顺便把编程和英语同时学到手的机会 —— 无非是多花一点点力气，把它记住。"
   ]
  },
  {
   "cell_type": "markdown",
   "metadata": {},
   "source": [
    "### 2.3 采用 for...in 迭代"
   ]
  },
  {
   "cell_type": "code",
   "execution_count": 13,
   "metadata": {},
   "outputs": [
    {
     "name": "stdout",
     "output_type": "stream",
     "text": [
      "56 的索引是 0\n",
      "45 的索引是 1\n",
      "576 的索引是 2\n",
      "899 的索引是 3\n",
      "12 的索引是 4\n",
      "45 的索引是 5\n"
     ]
    }
   ],
   "source": [
    "a = [56, 45, 576, 899, 12, 45]\n",
    "t = 0\n",
    "for i in a:\n",
    "    print(f\"{i} 的索引是 {t}\")\n",
    "    t += 1"
   ]
  },
  {
   "cell_type": "code",
   "execution_count": 14,
   "metadata": {},
   "outputs": [
    {
     "name": "stdout",
     "output_type": "stream",
     "text": [
      "56 的索引是 0\n",
      "45 的索引是 1\n",
      "576 的索引是 2\n",
      "899 的索引是 3\n",
      "12 的索引是 4\n",
      "45 的索引是 5\n"
     ]
    }
   ],
   "source": [
    "a = [56, 45, 576, 899, 12, 45]\n",
    "\n",
    "for t in range(len(a)):\n",
    "    print(f\"{a[t]} 的索引是 {t}\")"
   ]
  },
  {
   "cell_type": "markdown",
   "metadata": {},
   "source": [
    "上面两种方法都很好理解，对于初学 Python 的人来说，也是一个刻意练习 流程控制语句的机会。"
   ]
  },
  {
   "cell_type": "markdown",
   "metadata": {},
   "source": [
    "## 3、如何构造字典并更新其数据？"
   ]
  },
  {
   "cell_type": "markdown",
   "metadata": {},
   "source": [
    "在最初的完整答案中，我们先构造了一个空字典 rlt，然后为它构造添加每一个元素。这是一种常用的简约方式。"
   ]
  },
  {
   "cell_type": "code",
   "execution_count": 16,
   "metadata": {},
   "outputs": [
    {
     "data": {
      "text/plain": [
       "{11: 0, 9: 1, 18: 2, 26: 3, 3: 4, 1: 5}"
      ]
     },
     "execution_count": 16,
     "metadata": {},
     "output_type": "execute_result"
    }
   ],
   "source": [
    "a = [56, 45, 576, 899, 12, 100]\n",
    "rlt = {}\n",
    "for t,i in enumerate(a):\n",
    "    s = sum(map(int,str(i)))\n",
    "    rlt[s] = t\n",
    "rlt"
   ]
  },
  {
   "cell_type": "markdown",
   "metadata": {},
   "source": [
    "2020 年 6 月 8 日"
   ]
  }
 ],
 "metadata": {
  "kernelspec": {
   "display_name": "Python 3",
   "language": "python",
   "name": "python3"
  },
  "language_info": {
   "codemirror_mode": {
    "name": "ipython",
    "version": 3
   },
   "file_extension": ".py",
   "mimetype": "text/x-python",
   "name": "python",
   "nbconvert_exporter": "python",
   "pygments_lexer": "ipython3",
   "version": "3.7.3"
  }
 },
 "nbformat": 4,
 "nbformat_minor": 4
}