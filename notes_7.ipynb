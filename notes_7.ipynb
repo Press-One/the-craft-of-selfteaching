{
 "cells": [
  {
   "cell_type": "markdown",
   "metadata": {},
   "source": [
    "本篇笔记投稿人：大丸子"
   ]
  },
  {
   "cell_type": "markdown",
   "metadata": {},
   "source": [
    "投稿请微信联系：qiaoanlu"
   ]
  },
  {
   "cell_type": "markdown",
   "metadata": {},
   "source": [
    "# 答题笔记：输出字符串中所有数字出现的位置"
   ]
  },
  {
   "cell_type": "markdown",
   "metadata": {},
   "source": [
    "[《自学是门手艺》](https://xue.cn/hub/app/books/1) 习题第 7 题的要求是："
   ]
  },
  {
   "cell_type": "markdown",
   "metadata": {},
   "source": [
    "> 指定字符串为 abc120dfg09\n",
    ">\n",
    "> 识别该字符串中所有数字，并打印该数字在该字符串中的位置（索引）。"
   ]
  },
  {
   "cell_type": "markdown",
   "metadata": {},
   "source": [
    "这道题有多种实现方式。"
   ]
  },
  {
   "cell_type": "markdown",
   "metadata": {},
   "source": [
    "## 1、常规解法：字符串的迭代"
   ]
  },
  {
   "cell_type": "markdown",
   "metadata": {},
   "source": [
    "大多数同学会采用下面这种实现方式。"
   ]
  },
  {
   "cell_type": "code",
   "execution_count": 1,
   "metadata": {},
   "outputs": [
    {
     "name": "stdout",
     "output_type": "stream",
     "text": [
      "索引 3 出现数字 1\n",
      "索引 4 出现数字 2\n",
      "索引 5 出现数字 0\n",
      "索引 9 出现数字 0\n",
      "索引 10 出现数字 9\n"
     ]
    }
   ],
   "source": [
    "data = \"abc120dfg09\"\n",
    "for i in range(len(data)):\n",
    "    if data[i] in \"0123456789\":\n",
    "        print(f\"索引 {i} 出现数字 {data[i]}\")"
   ]
  },
  {
   "cell_type": "markdown",
   "metadata": {},
   "source": [
    "### 细节 1：如何表示数字"
   ]
  },
  {
   "cell_type": "markdown",
   "metadata": {},
   "source": [
    "除了采用手敲字符串 \"0123456789\" 表示数字，也可以采用字符串常量：string.digits"
   ]
  },
  {
   "cell_type": "code",
   "execution_count": 2,
   "metadata": {},
   "outputs": [
    {
     "name": "stdout",
     "output_type": "stream",
     "text": [
      "索引 3 出现数字 1\n",
      "索引 4 出现数字 2\n",
      "索引 5 出现数字 0\n",
      "索引 9 出现数字 0\n",
      "索引 10 出现数字 9\n"
     ]
    }
   ],
   "source": [
    "from string import digits\n",
    "data = \"abc120dfg09\"\n",
    "for i in range(len(data)):\n",
    "    if data[i] in digits:\n",
    "        print(f\"索引 {i} 出现数字 {data[i]}\")"
   ]
  },
  {
   "cell_type": "code",
   "execution_count": 5,
   "metadata": {},
   "outputs": [
    {
     "data": {
      "text/plain": [
       "\u001b[1;31mType:\u001b[0m        str\n",
       "\u001b[1;31mString form:\u001b[0m 0123456789\n",
       "\u001b[1;31mLength:\u001b[0m      10\n",
       "\u001b[1;31mDocstring:\u001b[0m  \n",
       "str(object='') -> str\n",
       "str(bytes_or_buffer[, encoding[, errors]]) -> str\n",
       "\n",
       "Create a new string object from the given object. If encoding or\n",
       "errors is specified, then the object must expose a data buffer\n",
       "that will be decoded using the given encoding and error handler.\n",
       "Otherwise, returns the result of object.__str__() (if defined)\n",
       "or repr(object).\n",
       "encoding defaults to sys.getdefaultencoding().\n",
       "errors defaults to 'strict'.\n"
      ]
     },
     "metadata": {},
     "output_type": "display_data"
    }
   ],
   "source": [
    "#使用该方式，可以随时查询 Python 官方文档\n",
    "digits?"
   ]
  },
  {
   "cell_type": "markdown",
   "metadata": {},
   "source": [
    "还可以采用更绕一点的方式：用 range(10) 生成数字 0 至 9，然后再转换为字符串。下面展示的是一种萌新较少遇到，但未来会频繁用到的方法 map()。帮助大家增加一点点印象。"
   ]
  },
  {
   "cell_type": "code",
   "execution_count": 3,
   "metadata": {},
   "outputs": [
    {
     "name": "stdout",
     "output_type": "stream",
     "text": [
      "索引 3 出现数字 1\n",
      "索引 4 出现数字 2\n",
      "索引 5 出现数字 0\n",
      "索引 9 出现数字 0\n",
      "索引 10 出现数字 9\n"
     ]
    }
   ],
   "source": [
    "from string import digits\n",
    "data = \"abc120dfg09\"\n",
    "for i in range(len(data)):\n",
    "    if data[i] in map(str,range(10)):\n",
    "        print(f\"索引 {i} 出现数字 {data[i]}\")"
   ]
  },
  {
   "cell_type": "code",
   "execution_count": 4,
   "metadata": {},
   "outputs": [
    {
     "data": {
      "text/plain": [
       "\u001b[1;31mInit signature:\u001b[0m \u001b[0mmap\u001b[0m\u001b[1;33m(\u001b[0m\u001b[0mself\u001b[0m\u001b[1;33m,\u001b[0m \u001b[1;33m/\u001b[0m\u001b[1;33m,\u001b[0m \u001b[1;33m*\u001b[0m\u001b[0margs\u001b[0m\u001b[1;33m,\u001b[0m \u001b[1;33m**\u001b[0m\u001b[0mkwargs\u001b[0m\u001b[1;33m)\u001b[0m\u001b[1;33m\u001b[0m\u001b[1;33m\u001b[0m\u001b[0m\n",
       "\u001b[1;31mDocstring:\u001b[0m     \n",
       "map(func, *iterables) --> map object\n",
       "\n",
       "Make an iterator that computes the function using arguments from\n",
       "each of the iterables.  Stops when the shortest iterable is exhausted.\n",
       "\u001b[1;31mType:\u001b[0m           type\n",
       "\u001b[1;31mSubclasses:\u001b[0m     \n"
      ]
     },
     "metadata": {},
     "output_type": "display_data"
    }
   ],
   "source": [
    "#使用该方式，可以随时查询 Python 官方文档\n",
    "map?"
   ]
  },
  {
   "cell_type": "markdown",
   "metadata": {},
   "source": [
    "### 细节 2：为何不直接迭代字符串？"
   ]
  },
  {
   "cell_type": "markdown",
   "metadata": {},
   "source": [
    "字符串可以直接采用 for...in... 逐个访问，然后采用 index() 获取索引。比如："
   ]
  },
  {
   "cell_type": "code",
   "execution_count": 6,
   "metadata": {},
   "outputs": [
    {
     "name": "stdout",
     "output_type": "stream",
     "text": [
      "索引 3 出现数字 1\n",
      "索引 4 出现数字 2\n",
      "索引 5 出现数字 0\n",
      "索引 5 出现数字 0\n",
      "索引 10 出现数字 9\n"
     ]
    }
   ],
   "source": [
    "data = \"abc120dfg09\"\n",
    "for i in data:\n",
    "    if i in \"0123456789\":\n",
    "        print(f\"索引 {data.index(i)} 出现数字 {i}\")"
   ]
  },
  {
   "cell_type": "markdown",
   "metadata": {},
   "source": [
    "这个实现方式并不完全对。字符串中出现了两次数字 0，但该实现找到的索引位置是两次 5，而非正确答案：5 和 9。"
   ]
  },
  {
   "cell_type": "markdown",
   "metadata": {},
   "source": [
    "但 index() 的方法依然可用。"
   ]
  },
  {
   "cell_type": "code",
   "execution_count": 7,
   "metadata": {},
   "outputs": [
    {
     "data": {
      "text/plain": [
       "\u001b[1;31mDocstring:\u001b[0m\n",
       "S.index(sub[, start[, end]]) -> int\n",
       "\n",
       "Return the lowest index in S where substring sub is found, \n",
       "such that sub is contained within S[start:end].  Optional\n",
       "arguments start and end are interpreted as in slice notation.\n",
       "\n",
       "Raises ValueError when the substring is not found.\n",
       "\u001b[1;31mType:\u001b[0m      method_descriptor\n"
      ]
     },
     "metadata": {},
     "output_type": "display_data"
    }
   ],
   "source": [
    "#使用该方式，可以随时查询 Python 官方文档\n",
    "str.index?"
   ]
  },
  {
   "cell_type": "markdown",
   "metadata": {},
   "source": [
    "我们使用 index() 的 start 参数；每访问 data 的一个元素，start 就自增 1，终于得到正确答案。"
   ]
  },
  {
   "cell_type": "code",
   "execution_count": 8,
   "metadata": {},
   "outputs": [
    {
     "name": "stdout",
     "output_type": "stream",
     "text": [
      "索引 3 出现数字 1\n",
      "索引 4 出现数字 2\n",
      "索引 5 出现数字 0\n",
      "索引 9 出现数字 0\n",
      "索引 10 出现数字 9\n"
     ]
    }
   ],
   "source": [
    "data = \"abc120dfg09\"\n",
    "start = 0\n",
    "for i in data:\n",
    "    if i in \"0123456789\":\n",
    "        print(f\"索引 {data.index(i,start)} 出现数字 {i}\")\n",
    "    start += 1"
   ]
  },
  {
   "cell_type": "markdown",
   "metadata": {},
   "source": [
    "至于 通用序列操作，推荐大家多多阅读 [Python 官方文档内置类型](https://xue.cn/hub/reader?bookId=61&path=book_59/library/stdtypes.ipynb) 页。"
   ]
  },
  {
   "cell_type": "markdown",
   "metadata": {},
   "source": [
    "![](./readers_notes/03.png)"
   ]
  },
  {
   "cell_type": "markdown",
   "metadata": {},
   "source": [
    "## 2、进阶解法：对输出结果的保存"
   ]
  },
  {
   "cell_type": "markdown",
   "metadata": {},
   "source": [
    "在上述实现方式中，找到一条结果就立即打印它。这里，我们试着把结果先保存下来，然后最终一次性打印结果。"
   ]
  },
  {
   "cell_type": "markdown",
   "metadata": {},
   "source": [
    "这并非题目要求如此，而是我们主动试着刻意练习，试着用不同的解题思路来完成一道题，以此训练和提高自己的编程能力。"
   ]
  },
  {
   "cell_type": "markdown",
   "metadata": {},
   "source": [
    "### 采用列表保存"
   ]
  },
  {
   "cell_type": "markdown",
   "metadata": {},
   "source": [
    "仅保管数字型字符对应的索引。"
   ]
  },
  {
   "cell_type": "code",
   "execution_count": 9,
   "metadata": {},
   "outputs": [
    {
     "name": "stdout",
     "output_type": "stream",
     "text": [
      "[3, 4, 5, 9, 10]\n"
     ]
    }
   ],
   "source": [
    "data = \"abc120dfg09\"\n",
    "rlt = []\n",
    "for i in range(len(data)):\n",
    "    if data[i] in \"0123456789\":\n",
    "        rlt.append((i))\n",
    "print(rlt)"
   ]
  },
  {
   "cell_type": "markdown",
   "metadata": {},
   "source": [
    "### 采用元组组成的列表保存"
   ]
  },
  {
   "cell_type": "markdown",
   "metadata": {},
   "source": [
    "每个元组保管一对相应的索引和数字型字符，多个元组构成列表。元组内部，是索引在前还是数字型字符在前，都 OK。"
   ]
  },
  {
   "cell_type": "code",
   "execution_count": 10,
   "metadata": {},
   "outputs": [
    {
     "name": "stdout",
     "output_type": "stream",
     "text": [
      "[(3, '1'), (4, '2'), (5, '0'), (9, '0'), (10, '9')]\n"
     ]
    }
   ],
   "source": [
    "data = \"abc120dfg09\"\n",
    "rlt = []\n",
    "for i in range(len(data)):\n",
    "    if data[i] in \"0123456789\":\n",
    "        rlt.append((i,data[i]))\n",
    "print(rlt)"
   ]
  },
  {
   "cell_type": "markdown",
   "metadata": {},
   "source": [
    "### 采用字典保存"
   ]
  },
  {
   "cell_type": "markdown",
   "metadata": {},
   "source": [
    "索引作为字典的键，字符作为字典的值 —— 由于字符可能重复，所以只能采用索引作为键。"
   ]
  },
  {
   "cell_type": "code",
   "execution_count": 11,
   "metadata": {},
   "outputs": [
    {
     "name": "stdout",
     "output_type": "stream",
     "text": [
      "{3: '1', 4: '2', 5: '0', 9: '0', 10: '9'}\n"
     ]
    }
   ],
   "source": [
    "data = \"abc120dfg09\"\n",
    "rlt = {}\n",
    "for i in range(len(data)):\n",
    "    if data[i] in \"0123456789\":\n",
    "        rlt[i] = data[i]\n",
    "print(rlt)"
   ]
  },
  {
   "cell_type": "markdown",
   "metadata": {},
   "source": [
    "## 3、高手解法：正则表达式"
   ]
  },
  {
   "cell_type": "markdown",
   "metadata": {},
   "source": [
    "会用正则表达式不一定是高手，高手一定会正则表达式。涉及到字符串的查找，那么必须要刻意练习一下正则表达式，让自己有机会成为高手。"
   ]
  },
  {
   "cell_type": "markdown",
   "metadata": {},
   "source": [
    "下面的代码实现，返回结果和 “采用元组组成的列表保存” 中一致。"
   ]
  },
  {
   "cell_type": "code",
   "execution_count": 12,
   "metadata": {},
   "outputs": [
    {
     "name": "stdout",
     "output_type": "stream",
     "text": [
      "[(3, '1'), (4, '2'), (5, '0'), (9, '0'), (10, '9')]\n"
     ]
    }
   ],
   "source": [
    "import re\n",
    "data = \"abc120dfg09\"\n",
    "p = [(i.start(),i.group()) for i in re.finditer(r\"\\d\",data)]\n",
    "print(p)"
   ]
  },
  {
   "cell_type": "code",
   "execution_count": 13,
   "metadata": {},
   "outputs": [
    {
     "data": {
      "text/plain": [
       "\u001b[1;31mSignature:\u001b[0m \u001b[0mre\u001b[0m\u001b[1;33m.\u001b[0m\u001b[0mfinditer\u001b[0m\u001b[1;33m(\u001b[0m\u001b[0mpattern\u001b[0m\u001b[1;33m,\u001b[0m \u001b[0mstring\u001b[0m\u001b[1;33m,\u001b[0m \u001b[0mflags\u001b[0m\u001b[1;33m=\u001b[0m\u001b[1;36m0\u001b[0m\u001b[1;33m)\u001b[0m\u001b[1;33m\u001b[0m\u001b[1;33m\u001b[0m\u001b[0m\n",
       "\u001b[1;31mDocstring:\u001b[0m\n",
       "Return an iterator over all non-overlapping matches in the\n",
       "string.  For each match, the iterator returns a Match object.\n",
       "\n",
       "Empty matches are included in the result.\n",
       "\u001b[1;31mFile:\u001b[0m      c:\\programdata\\anaconda3\\lib\\re.py\n",
       "\u001b[1;31mType:\u001b[0m      function\n"
      ]
     },
     "metadata": {},
     "output_type": "display_data"
    }
   ],
   "source": [
    "re.finditer?"
   ]
  },
  {
   "cell_type": "markdown",
   "metadata": {},
   "source": [
    "我很喜欢正则表达式这个强大的工具，并在大量文本的归整、编辑中受益于此。"
   ]
  },
  {
   "cell_type": "markdown",
   "metadata": {},
   "source": [
    "如果你想掌握正则表达式，入门需掌握并温习 [《自学是门手艺》](https://xue.cn/hub/app/books/1) 中的 [ “类”](./Part.3.B.2.classes-2.ipynb) 与 [ “正则表达式”](./Part.3.B.4.regex.ipynb)，拥有这个基础后再看 [Python 官方文档 Re 库，关于 match 对象的方法](https://xue.cn/hub/reader?bookId=61&path=book_59/library/re.ipynb&anchor=match-objects)。"
   ]
  },
  {
   "cell_type": "markdown",
   "metadata": {},
   "source": [
    "2020 年 05 月 30 日"
   ]
  }
 ],
 "metadata": {
  "kernelspec": {
   "display_name": "Python 3",
   "language": "python",
   "name": "python3"
  },
  "language_info": {
   "codemirror_mode": {
    "name": "ipython",
    "version": 3
   },
   "file_extension": ".py",
   "mimetype": "text/x-python",
   "name": "python",
   "nbconvert_exporter": "python",
   "pygments_lexer": "ipython3",
   "version": "3.7.3"
  }
 },
 "nbformat": 4,
 "nbformat_minor": 2
}