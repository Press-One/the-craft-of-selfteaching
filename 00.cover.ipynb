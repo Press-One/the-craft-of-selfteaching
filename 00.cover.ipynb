{
 "cells": [
  {
   "cell_type": "markdown",
   "metadata": {},
   "source": [
    "# 自学是门手艺"
   ]
  },
  {
   "cell_type": "markdown",
   "metadata": {},
   "source": [
    "> One has no future if one couldn't teach themself<a href='#fn1' name='fn1b'><sup>[1]</sup></a>."
   ]
  },
  {
   "cell_type": "markdown",
   "metadata": {},
   "source": [
    "**作者：李笑来**"
   ]
  },
  {
   "cell_type": "markdown",
   "metadata": {},
   "source": [
    "特别感谢**霍炬**（[@virushuo](https://github.com/virushuo)）、**洪强宁**（[@hongqn](https://github.com/hongqn)) 两位良师诤友在此书写作过程中给予我的巨大帮助！"
   ]
  },
  {
   "cell_type": "markdown",
   "metadata": {},
   "source": [
    "```python\n",
    "# pseudo-code of selfteaching in Python\n",
    "\n",
    "def teach_yourself(anything):\n",
    "    while not create():\n",
    "        learn()\n",
    "        practice()\n",
    "    return teach_yourself(another)\n",
    "\n",
    "teach_yourself(coding)\n",
    "```"
   ]
  },
  {
   "cell_type": "markdown",
   "metadata": {},
   "source": [
    "*编者注：上方代码是一种“伪代码”，如果用 Python 实现，将是怎样的效果？[拓展阅读：《笑来能写的 Python 代码，我也会》](https://xue.cn/hub/reader?bookId=39&path=programming_case/e1_自学.ipynb)*"
   ]
  },
  {
   "cell_type": "markdown",
   "metadata": {},
   "source": [
    "本书的版权协议为 [CC-BY-NC-ND license](https://creativecommons.org/licenses/by-nc-nd/3.0/deed.zh)。"
   ]
  },
  {
   "cell_type": "markdown",
   "metadata": {},
   "source": [
    "![CC-BY-NC-ND](images/CC-BY-NC-ND.png)"
   ]
  },
  {
   "cell_type": "markdown",
   "metadata": {},
   "source": [
    "**脚注**"
   ]
  },
  {
   "cell_type": "markdown",
   "metadata": {},
   "source": [
    "<a id='fn1'></a>[1]：['Themselves' or 'themself'? -- Oxford Dictionary](https://en.oxforddictionaries.com/usage/themselves-or-themself)"
   ]
  }
 ],
 "metadata": {
  "kernelspec": {
   "display_name": "Python 3",
   "language": "python",
   "name": "python3"
  },
  "language_info": {
   "codemirror_mode": {
    "name": "ipython",
    "version": 3
   },
   "file_extension": ".py",
   "mimetype": "text/x-python",
   "name": "python",
   "nbconvert_exporter": "python",
   "pygments_lexer": "ipython3",
   "version": "3.7.3"
  },
  "toc-autonumbering": false
 },
 "nbformat": 4,
 "nbformat_minor": 2
}