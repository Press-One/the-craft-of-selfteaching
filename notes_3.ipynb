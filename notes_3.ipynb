{
 "cells": [
  {
   "cell_type": "markdown",
   "metadata": {},
   "source": [
    "本篇笔记投稿人：大丸子"
   ]
  },
  {
   "cell_type": "markdown",
   "metadata": {},
   "source": [
    "投稿请微信联系：qiaoanlu"
   ]
  },
  {
   "cell_type": "markdown",
   "metadata": {},
   "source": [
    "# 答题笔记：去重列表中的重复元素"
   ]
  },
  {
   "cell_type": "markdown",
   "metadata": {},
   "source": [
    "[《自学是门手艺》](https://xue.cn/hub/app/books/1) 第 3 题的要求是："
   ]
  },
  {
   "cell_type": "markdown",
   "metadata": {},
   "source": [
    "> 指定列表为： [\"b\", \"c\", \"d\", \"c\", \"b\", \"a\", \"a\"] 对于重复出现的元素，仅保留一个，移除重复的。"
   ]
  },
  {
   "cell_type": "markdown",
   "metadata": {},
   "source": [
    "## 解法 1：利用 set() 去重"
   ]
  },
  {
   "cell_type": "markdown",
   "metadata": {},
   "source": [
    "这是每个人最终都必须掌握的方法 —— 列表元素去重，这里有一个通用的好办法："
   ]
  },
  {
   "cell_type": "code",
   "execution_count": 1,
   "metadata": {},
   "outputs": [
    {
     "name": "stdout",
     "output_type": "stream",
     "text": [
      "['b', 'a', 'c', 'd']\n"
     ]
    }
   ],
   "source": [
    "x = [\"b\", \"c\", \"d\", \"c\", \"b\", \"a\", \"a\"]\n",
    "print(list(set(x)))"
   ]
  },
  {
   "cell_type": "markdown",
   "metadata": {},
   "source": [
    "通过 set() 把列表转换为集合，利用集合元素不可重复的特性，自动去重。然后再把集合通过 list() 转换回列表。"
   ]
  },
  {
   "cell_type": "markdown",
   "metadata": {},
   "source": [
    "**需要温习集合、列表的特点，阅读 [《自学是门手艺》](https://xue.cn/hub/app/books/1)[数据容器](./Part.1.E.6.containers.ipynb)**"
   ]
  },
  {
   "cell_type": "code",
   "execution_count": 2,
   "metadata": {},
   "outputs": [
    {
     "data": {
      "text/plain": [
       "\u001b[1;31mInit signature:\u001b[0m \u001b[0mset\u001b[0m\u001b[1;33m(\u001b[0m\u001b[0mself\u001b[0m\u001b[1;33m,\u001b[0m \u001b[1;33m/\u001b[0m\u001b[1;33m,\u001b[0m \u001b[1;33m*\u001b[0m\u001b[0margs\u001b[0m\u001b[1;33m,\u001b[0m \u001b[1;33m**\u001b[0m\u001b[0mkwargs\u001b[0m\u001b[1;33m)\u001b[0m\u001b[1;33m\u001b[0m\u001b[1;33m\u001b[0m\u001b[0m\n",
       "\u001b[1;31mDocstring:\u001b[0m     \n",
       "set() -> new empty set object\n",
       "set(iterable) -> new set object\n",
       "\n",
       "Build an unordered collection of unique elements.\n",
       "\u001b[1;31mType:\u001b[0m           type\n",
       "\u001b[1;31mSubclasses:\u001b[0m     \n"
      ]
     },
     "metadata": {},
     "output_type": "display_data"
    }
   ],
   "source": [
    "#使用该方式，可以随时查询 Python 官方文档\n",
    "set?"
   ]
  },
  {
   "cell_type": "code",
   "execution_count": 3,
   "metadata": {},
   "outputs": [
    {
     "data": {
      "text/plain": [
       "\u001b[1;31mInit signature:\u001b[0m \u001b[0mlist\u001b[0m\u001b[1;33m(\u001b[0m\u001b[0miterable\u001b[0m\u001b[1;33m=\u001b[0m\u001b[1;33m(\u001b[0m\u001b[1;33m)\u001b[0m\u001b[1;33m,\u001b[0m \u001b[1;33m/\u001b[0m\u001b[1;33m)\u001b[0m\u001b[1;33m\u001b[0m\u001b[1;33m\u001b[0m\u001b[0m\n",
       "\u001b[1;31mDocstring:\u001b[0m     \n",
       "Built-in mutable sequence.\n",
       "\n",
       "If no argument is given, the constructor creates a new empty list.\n",
       "The argument must be an iterable if specified.\n",
       "\u001b[1;31mType:\u001b[0m           type\n",
       "\u001b[1;31mSubclasses:\u001b[0m     _HashedSeq, StackSummary, SList, _ImmutableLineList, FormattedText, NodeList, _ExplodedList, Stack, _Accumulator, _ymd, ...\n"
      ]
     },
     "metadata": {},
     "output_type": "display_data"
    }
   ],
   "source": [
    "#使用该方式，可以随时查询 Python 官方文档\n",
    "list?"
   ]
  },
  {
   "cell_type": "markdown",
   "metadata": {},
   "source": [
    "### 如何让元素按原顺序？"
   ]
  },
  {
   "cell_type": "markdown",
   "metadata": {},
   "source": [
    "如果多执行几遍，你会发现，利用 list(set()) 去重后，列表元素的排序和最初不太一样，会乱掉。那么有什么办法让它按照原来的顺序排列呢？"
   ]
  },
  {
   "cell_type": "markdown",
   "metadata": {},
   "source": [
    "@zean 的这个实现方式，是对 sorted() 的一个非常棒的刻意练习。"
   ]
  },
  {
   "cell_type": "code",
   "execution_count": 7,
   "metadata": {},
   "outputs": [
    {
     "name": "stdout",
     "output_type": "stream",
     "text": [
      "['b', 'c', 'd', 'a']\n"
     ]
    }
   ],
   "source": [
    "x = [\"b\", \"c\", \"d\", \"c\", \"b\", \"a\", \"a\"]\n",
    "y = sorted(set(x),key=x.index)\n",
    "print(y)"
   ]
  },
  {
   "cell_type": "markdown",
   "metadata": {},
   "source": [
    "就算刚开始不知道 list(set()) 的用法也没关系，还可以尝试采用条件控制语句和列表的基础方法完成。"
   ]
  },
  {
   "cell_type": "markdown",
   "metadata": {},
   "source": [
    "## 解法 2：采用 in 查询"
   ]
  },
  {
   "cell_type": "markdown",
   "metadata": {},
   "source": [
    "下面的代码中使用了两次 in，`for i in x`，挨个访问列表 x 中的元素，`if i not in y`，检查元素是否存在于列表 y 中。"
   ]
  },
  {
   "cell_type": "code",
   "execution_count": 4,
   "metadata": {},
   "outputs": [
    {
     "name": "stdout",
     "output_type": "stream",
     "text": [
      "['b', 'c', 'd', 'a']\n"
     ]
    }
   ],
   "source": [
    "x = [\"b\", \"c\", \"d\", \"c\", \"b\", \"a\", \"a\"]\n",
    "y = []\n",
    "for i in x:\n",
    "    if i not in y:\n",
    "        y.append(i)\n",
    "print(y)"
   ]
  },
  {
   "cell_type": "markdown",
   "metadata": {},
   "source": [
    "@simon 则刻意练习了 for 循环的 continue；当然具体到这个题目来说，上面的实现方式代码可读性更强。"
   ]
  },
  {
   "cell_type": "code",
   "execution_count": 12,
   "metadata": {},
   "outputs": [
    {
     "name": "stdout",
     "output_type": "stream",
     "text": [
      "['b', 'c', 'd', 'a']\n"
     ]
    }
   ],
   "source": [
    "x = [\"b\", \"c\", \"d\", \"c\", \"b\", \"a\", \"a\"]\n",
    "y = []\n",
    "for i in x:\n",
    "    if i in y:\n",
    "        continue\n",
    "    y.append(i)\n",
    "print(y)"
   ]
  },
  {
   "cell_type": "code",
   "execution_count": 5,
   "metadata": {},
   "outputs": [
    {
     "data": {
      "text/plain": [
       "\u001b[1;31mSignature:\u001b[0m \u001b[0mlist\u001b[0m\u001b[1;33m.\u001b[0m\u001b[0mappend\u001b[0m\u001b[1;33m(\u001b[0m\u001b[0mself\u001b[0m\u001b[1;33m,\u001b[0m \u001b[0mobject\u001b[0m\u001b[1;33m,\u001b[0m \u001b[1;33m/\u001b[0m\u001b[1;33m)\u001b[0m\u001b[1;33m\u001b[0m\u001b[1;33m\u001b[0m\u001b[0m\n",
       "\u001b[1;31mDocstring:\u001b[0m Append object to the end of the list.\n",
       "\u001b[1;31mType:\u001b[0m      method_descriptor\n"
      ]
     },
     "metadata": {},
     "output_type": "display_data"
    }
   ],
   "source": [
    "list.append?"
   ]
  },
  {
   "cell_type": "markdown",
   "metadata": {},
   "source": [
    "**需要温习 for 循环、if 分支 的用法，阅读 [《自学是门手艺》](https://xue.cn/hub/app/books/1) [1.5.3 条件控制](./Part.1.E.3.controlflow.ipynb)**"
   ]
  },
  {
   "cell_type": "markdown",
   "metadata": {},
   "source": [
    "**希望你已经掌握了如何`迭代各种容器中的元素 `，如需温习，阅读 [《自学是门手艺》](https://xue.cn/hub/app/books/1)[数据容器](./Part.1.E.6.containers.ipynb)**"
   ]
  },
  {
   "cell_type": "markdown",
   "metadata": {},
   "source": [
    "以上两种解题方式，广泛地被同学们所采用。你还有哪些解题思路吗？"
   ]
  },
  {
   "cell_type": "markdown",
   "metadata": {},
   "source": [
    "## 解法 3：采用 pandas 的去重方法"
   ]
  },
  {
   "cell_type": "markdown",
   "metadata": {},
   "source": [
    "在 pandas 的两种常用数据结构 series 和 dataframe 中，都有一个去重方法 unique()，下面我们刻意练习一下："
   ]
  },
  {
   "cell_type": "code",
   "execution_count": 1,
   "metadata": {},
   "outputs": [
    {
     "name": "stdout",
     "output_type": "stream",
     "text": [
      "['b' 'c' 'd' 'a']\n"
     ]
    }
   ],
   "source": [
    "import pandas as pd\n",
    "x = [\"b\", \"c\", \"d\", \"c\", \"b\", \"a\", \"a\"]\n",
    "s = pd.Series(x)\n",
    "y = s.unique()\n",
    "print(y)"
   ]
  },
  {
   "cell_type": "code",
   "execution_count": null,
   "metadata": {},
   "outputs": [],
   "source": [
    "#如果想要查询官方文档，运行该代码即可\n",
    "pd.Series?"
   ]
  },
  {
   "cell_type": "code",
   "execution_count": null,
   "metadata": {},
   "outputs": [],
   "source": [
    "#如果想要查询官方文档，运行该代码即可\n",
    "pd.unique?"
   ]
  },
  {
   "cell_type": "markdown",
   "metadata": {},
   "source": [
    "如果你已经学完 [《自学是门手艺》](https://xue.cn/hub/app/books/1)，也想要了解数据分析，掌握 numpy、pandas、matplotlib 库，那么 [《跟老齐学 Python：数据分析》](https://xue.cn/hub/app/books/20) 是个不错的选择。"
   ]
  },
  {
   "cell_type": "markdown",
   "metadata": {},
   "source": [
    "2020 年 05 月 28 日"
   ]
  }
 ],
 "metadata": {
  "kernelspec": {
   "display_name": "Python 3",
   "language": "python",
   "name": "python3"
  },
  "language_info": {
   "codemirror_mode": {
    "name": "ipython",
    "version": 3
   },
   "file_extension": ".py",
   "mimetype": "text/x-python",
   "name": "python",
   "nbconvert_exporter": "python",
   "pygments_lexer": "ipython3",
   "version": "3.7.3"
  }
 },
 "nbformat": 4,
 "nbformat_minor": 2
}